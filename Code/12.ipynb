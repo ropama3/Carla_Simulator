{
 "cells": [
  {
   "cell_type": "markdown",
   "id": "8795c1e8",
   "metadata": {},
   "source": [
    "# SEMÁFOROS"
   ]
  },
  {
   "cell_type": "code",
   "execution_count": 2,
   "id": "eee82ab2",
   "metadata": {},
   "outputs": [],
   "source": [
    "import glob\n",
    "import os\n",
    "import sys\n",
    "import carla\n",
    "import argparse\n",
    "import random\n",
    "import time\n",
    "import math\n",
    "import numpy as np\n",
    "import cv2"
   ]
  },
  {
   "cell_type": "markdown",
   "id": "a83a5a40",
   "metadata": {},
   "source": [
    "#### CREAR MUNDO"
   ]
  },
  {
   "cell_type": "code",
   "execution_count": 3,
   "id": "07a12527",
   "metadata": {},
   "outputs": [],
   "source": [
    "client = carla.Client('localhost', 2000)\n",
    "client.set_timeout(2000)\n",
    "#client.load_world(\"Town05\")\n",
    "world = client.get_world()\n",
    "map = world.get_map()"
   ]
  },
  {
   "cell_type": "markdown",
   "id": "925c242e",
   "metadata": {},
   "source": [
    "#### CAMBIO DE VISTA"
   ]
  },
  {
   "cell_type": "code",
   "execution_count": 4,
   "id": "cd89e8ac",
   "metadata": {},
   "outputs": [],
   "source": [
    "loc2=carla.Transform(carla.Location(x=64.557922, y=191.525208, z=1.138501), carla.Rotation(pitch=0.533207, yaw=-177.194565, roll=0.006472))\n",
    "spectator = world.get_spectator()\n",
    "spectator_pos = carla.Transform(loc2.location + carla.Location(x=10,y=0,z=4),carla.Rotation(yaw=loc2.rotation.yaw))\n",
    "spectator.set_transform(spectator_pos)"
   ]
  },
  {
   "cell_type": "markdown",
   "id": "d88c8fca",
   "metadata": {},
   "source": [
    "#### CREACIÓN DEL VEHÍCULO"
   ]
  },
  {
   "cell_type": "code",
   "execution_count": 5,
   "id": "af821e6f",
   "metadata": {},
   "outputs": [],
   "source": [
    "blueprint_library = world.get_blueprint_library()\n",
    "bp = random.choice(blueprint_library.filter('vehicle.tesla.model3'))\n",
    "\n",
    "if bp.has_attribute('color'):\n",
    "    color = bp.get_attribute('color').recommended_values[2]\n",
    "    bp.set_attribute('color', '255,0,255')\n",
    "\n",
    "vehicle = world.spawn_actor(bp, loc2)"
   ]
  },
  {
   "cell_type": "markdown",
   "id": "53c5c64b",
   "metadata": {},
   "source": [
    "#### VELOCIDAD CONSTANTE"
   ]
  },
  {
   "cell_type": "code",
   "execution_count": 6,
   "id": "9fe8763e",
   "metadata": {},
   "outputs": [],
   "source": [
    "def maintain_speed(s,preferred_speed,speed_threshold):\n",
    "    #el return es la aceleración\n",
    "    if s>=preferred_speed:\n",
    "        return 0\n",
    "    elif s < preferred_speed - speed_threshold:\n",
    "        return 0.8\n",
    "    else:\n",
    "        return 0.4"
   ]
  },
  {
   "cell_type": "markdown",
   "id": "8864c1b9",
   "metadata": {},
   "source": [
    "#### ANGULO"
   ]
  },
  {
   "cell_type": "code",
   "execution_count": 7,
   "id": "dd2dcdbc",
   "metadata": {},
   "outputs": [],
   "source": [
    "def angle_between(v1, v2):\n",
    "    return math.degrees(np.arctan2(v1[1], v1[0]) - np.arctan2(v2[1], v2[0]))\n",
    "\n",
    "def get_angle(car,wp):\n",
    "    vehicle_pos = car.get_transform()\n",
    "    car_x = vehicle_pos.location.x\n",
    "    car_y = vehicle_pos.location.y\n",
    "    wp_x = wp.transform.location.x\n",
    "    wp_y = wp.transform.location.y\n",
    "    \n",
    "    x = (wp_x - car_x)/((wp_y - car_y)**2 + (wp_x - car_x)**2)**0.5\n",
    "    y = (wp_y - car_y)/((wp_y - car_y)**2 + (wp_x - car_x)**2)**0.5\n",
    "    \n",
    "    car_vector = vehicle_pos.get_forward_vector()\n",
    "    degrees = angle_between((x,y),(car_vector.x,car_vector.y))\n",
    "    return degrees"
   ]
  },
  {
   "cell_type": "code",
   "execution_count": 8,
   "id": "c2528c36",
   "metadata": {},
   "outputs": [],
   "source": [
    "#Calculo del giro\n",
    "def steer(predicted_angle,MAX_STEER_DEGREES):\n",
    "    if predicted_angle<-180:\n",
    "        predicted_angle = predicted_angle+360\n",
    "    elif predicted_angle > 180:\n",
    "        predicted_angle = predicted_angle-360\n",
    "    steer_input = predicted_angle\n",
    "    if predicted_angle<-MAX_STEER_DEGREES:\n",
    "        steer_input = -MAX_STEER_DEGREES\n",
    "    elif predicted_angle>MAX_STEER_DEGREES:\n",
    "        steer_input = MAX_STEER_DEGREES\n",
    "    steer_input = steer_input/75\n",
    "    return steer_input"
   ]
  },
  {
   "cell_type": "markdown",
   "id": "775c9557",
   "metadata": {},
   "source": [
    "#### SEMÁFORO"
   ]
  },
  {
   "cell_type": "code",
   "execution_count": 10,
   "id": "79090579",
   "metadata": {},
   "outputs": [],
   "source": [
    "def is_traffic_light_red(vehicle, world):\n",
    "    location = vehicle.get_location()\n",
    "    actor_list = world.get_actors()\n",
    "\n",
    "    for actor in actor_list:\n",
    "        if actor.type_id.startswith(\"traffic.traffic_light\"):\n",
    "            traffic_light_location = actor.get_location()\n",
    "            distance = location.distance(traffic_light_location)\n",
    "            if distance < 37.0:\n",
    "                traffic_light_state = actor.get_state()\n",
    "                vehicle_waypoint = world.get_map().get_waypoint(location)\n",
    "                traffic_light_waypoint = world.get_map().get_waypoint(traffic_light_location)\n",
    "                if traffic_light_waypoint.lane_id == 1:\n",
    "                    if traffic_light_state == carla.TrafficLightState.Red:\n",
    "                        return True\n",
    "                    elif traffic_light_state == carla.TrafficLightState.Green:\n",
    "                        return False"
   ]
  },
  {
   "cell_type": "markdown",
   "id": "fac2c01e",
   "metadata": {},
   "source": [
    "#### FRENO"
   ]
  },
  {
   "cell_type": "code",
   "execution_count": 11,
   "id": "f34ac08c",
   "metadata": {},
   "outputs": [],
   "source": [
    "def freno(light,brake_intensity,vehicle,estimated_throttle,steer_input):\n",
    "    if light:\n",
    "        control = carla.VehicleControl(brake=brake_intensity)\n",
    "        vehicle.apply_control(control)\n",
    "    else:    \n",
    "        vehicle.apply_control(carla.VehicleControl(throttle= estimated_throttle, steer=steer_input))"
   ]
  },
  {
   "cell_type": "markdown",
   "id": "35edf481",
   "metadata": {},
   "source": [
    "#### CONDUCCIÓN"
   ]
  },
  {
   "cell_type": "code",
   "execution_count": 13,
   "id": "8d785e41",
   "metadata": {},
   "outputs": [
    {
     "ename": "KeyboardInterrupt",
     "evalue": "",
     "output_type": "error",
     "traceback": [
      "\u001b[1;31m------------------------------------------------------------------------\u001b[0m",
      "\u001b[1;31mKeyboardInterrupt\u001b[0m                      Traceback (most recent call last)",
      "\u001b[1;32m~\\AppData\\Local\\Temp\\ipykernel_12768\\1097209149.py\u001b[0m in \u001b[0;36m<module>\u001b[1;34m\u001b[0m\n\u001b[0;32m     17\u001b[0m     \u001b[0msteer_input\u001b[0m\u001b[1;33m=\u001b[0m\u001b[0msteer\u001b[0m\u001b[1;33m(\u001b[0m\u001b[0mpredicted_angle\u001b[0m\u001b[1;33m,\u001b[0m\u001b[0mMAX_STEER_DEGREES\u001b[0m\u001b[1;33m)\u001b[0m\u001b[1;33m\u001b[0m\u001b[1;33m\u001b[0m\u001b[0m\n\u001b[0;32m     18\u001b[0m \u001b[1;33m\u001b[0m\u001b[0m\n\u001b[1;32m---> 19\u001b[1;33m     \u001b[0mlight\u001b[0m\u001b[1;33m=\u001b[0m\u001b[0mis_traffic_light_red\u001b[0m\u001b[1;33m(\u001b[0m\u001b[0mvehicle\u001b[0m\u001b[1;33m,\u001b[0m \u001b[0mworld\u001b[0m\u001b[1;33m)\u001b[0m\u001b[1;33m\u001b[0m\u001b[1;33m\u001b[0m\u001b[0m\n\u001b[0m\u001b[0;32m     20\u001b[0m     \u001b[0mfreno\u001b[0m\u001b[1;33m(\u001b[0m\u001b[0mlight\u001b[0m\u001b[1;33m,\u001b[0m\u001b[0mbrake_intensity\u001b[0m\u001b[1;33m,\u001b[0m\u001b[0mvehicle\u001b[0m\u001b[1;33m,\u001b[0m\u001b[0mestimated_throttle\u001b[0m\u001b[1;33m,\u001b[0m\u001b[0msteer_input\u001b[0m\u001b[1;33m)\u001b[0m\u001b[1;33m\u001b[0m\u001b[1;33m\u001b[0m\u001b[0m\n",
      "\u001b[1;32m~\\AppData\\Local\\Temp\\ipykernel_12768\\4188005575.py\u001b[0m in \u001b[0;36mis_traffic_light_red\u001b[1;34m(vehicle, world)\u001b[0m\n\u001b[0;32m      1\u001b[0m \u001b[1;32mdef\u001b[0m \u001b[0mis_traffic_light_red\u001b[0m\u001b[1;33m(\u001b[0m\u001b[0mvehicle\u001b[0m\u001b[1;33m,\u001b[0m \u001b[0mworld\u001b[0m\u001b[1;33m)\u001b[0m\u001b[1;33m:\u001b[0m\u001b[1;33m\u001b[0m\u001b[1;33m\u001b[0m\u001b[0m\n\u001b[0;32m      2\u001b[0m     \u001b[0mlocation\u001b[0m \u001b[1;33m=\u001b[0m \u001b[0mvehicle\u001b[0m\u001b[1;33m.\u001b[0m\u001b[0mget_location\u001b[0m\u001b[1;33m(\u001b[0m\u001b[1;33m)\u001b[0m\u001b[1;33m\u001b[0m\u001b[1;33m\u001b[0m\u001b[0m\n\u001b[1;32m----> 3\u001b[1;33m     \u001b[0mactor_list\u001b[0m \u001b[1;33m=\u001b[0m \u001b[0mworld\u001b[0m\u001b[1;33m.\u001b[0m\u001b[0mget_actors\u001b[0m\u001b[1;33m(\u001b[0m\u001b[1;33m)\u001b[0m\u001b[1;33m\u001b[0m\u001b[1;33m\u001b[0m\u001b[0m\n\u001b[0m\u001b[0;32m      4\u001b[0m \u001b[1;33m\u001b[0m\u001b[0m\n\u001b[0;32m      5\u001b[0m     \u001b[1;32mfor\u001b[0m \u001b[0mactor\u001b[0m \u001b[1;32min\u001b[0m \u001b[0mactor_list\u001b[0m\u001b[1;33m:\u001b[0m\u001b[1;33m\u001b[0m\u001b[1;33m\u001b[0m\u001b[0m\n",
      "\u001b[1;31mKeyboardInterrupt\u001b[0m: "
     ]
    }
   ],
   "source": [
    "MAX_STEER_DEGREES = 50\n",
    "brake_intensity = 0.8 \n",
    "preferred_speed = 30\n",
    "speed_threshold = 2\n",
    "\n",
    "while True:\n",
    "    loc=vehicle.get_location()\n",
    "    current_w = map.get_waypoint(loc)\n",
    "    waypoint_separation = 5\n",
    "    next_w0 = list(current_w.next(waypoint_separation))[0]\n",
    "    next_w = map.get_waypoint(next_w0.transform.location,project_to_road=True, lane_type=(carla.LaneType.Driving))\n",
    "    \n",
    "    velocity = vehicle.get_velocity()\n",
    "    speed = round(3.6 *math.sqrt(velocity.x**2+ velocity.y**2+velocity.z**2),0)\n",
    "    estimated_throttle = maintain_speed(speed,preferred_speed,speed_threshold)\n",
    "    predicted_angle = get_angle(vehicle,next_w)\n",
    "    steer_input=steer(predicted_angle,MAX_STEER_DEGREES)\n",
    "    \n",
    "    light=is_traffic_light_red(vehicle, world)\n",
    "    freno(light,brake_intensity,vehicle,estimated_throttle,steer_input)"
   ]
  },
  {
   "cell_type": "markdown",
   "id": "26227578",
   "metadata": {},
   "source": [
    "#### DESTRUIR"
   ]
  },
  {
   "cell_type": "code",
   "execution_count": 14,
   "id": "c2441a4b",
   "metadata": {},
   "outputs": [],
   "source": [
    "for actor in world.get_actors().filter('*vehicle*'):\n",
    "    actor.destroy()\n",
    "for sensor in world.get_actors().filter('*sensor*'):\n",
    "    sensor.destroy()"
   ]
  }
 ],
 "metadata": {
  "kernelspec": {
   "display_name": "Python 3 (ipykernel)",
   "language": "python",
   "name": "python3"
  },
  "language_info": {
   "codemirror_mode": {
    "name": "ipython",
    "version": 3
   },
   "file_extension": ".py",
   "mimetype": "text/x-python",
   "name": "python",
   "nbconvert_exporter": "python",
   "pygments_lexer": "ipython3",
   "version": "3.7.16"
  }
 },
 "nbformat": 4,
 "nbformat_minor": 5
}

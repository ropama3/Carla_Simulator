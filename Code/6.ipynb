{
 "cells": [
  {
   "cell_type": "markdown",
   "id": "88ceb4ee",
   "metadata": {},
   "source": [
    "# PRUEBAS CON UN VEHICULO"
   ]
  },
  {
   "cell_type": "markdown",
   "id": "0918d84e",
   "metadata": {},
   "source": [
    "Librerias"
   ]
  },
  {
   "cell_type": "code",
   "execution_count": 1,
   "id": "5671f804",
   "metadata": {},
   "outputs": [],
   "source": [
    "import glob\n",
    "import os\n",
    "import sys\n",
    "import carla\n",
    "import random\n",
    "import time"
   ]
  },
  {
   "cell_type": "markdown",
   "id": "a2f519d9",
   "metadata": {},
   "source": [
    "#### COCHE"
   ]
  },
  {
   "cell_type": "markdown",
   "id": "b3edcafe",
   "metadata": {},
   "source": [
    "Creamos el mundo"
   ]
  },
  {
   "cell_type": "code",
   "execution_count": 2,
   "id": "2bb64d15",
   "metadata": {},
   "outputs": [],
   "source": [
    "client = carla.Client('localhost', 2000)\n",
    "client.set_timeout(2000)\n",
    "#Usaremos el mapa que se carga por defecto al abrir carla\n",
    "world = client.get_world()"
   ]
  },
  {
   "cell_type": "markdown",
   "id": "4b674314",
   "metadata": {},
   "source": [
    "Creamos el coche"
   ]
  },
  {
   "cell_type": "code",
   "execution_count": 3,
   "id": "429dd954",
   "metadata": {},
   "outputs": [],
   "source": [
    "blueprint_library = world.get_blueprint_library()\n",
    "bp = random.choice(blueprint_library.filter('vehicle.tesla.model3'))\n",
    "\n",
    "if bp.has_attribute('color'):\n",
    "    color = bp.get_attribute('color').recommended_values[2]\n",
    "    bp.set_attribute('color', '255,0,255')\n",
    "        \n",
    "start_point = world.get_map().get_spawn_points()[0]\n",
    "vehicle = world.spawn_actor(bp, start_point)"
   ]
  },
  {
   "cell_type": "markdown",
   "id": "ceaf360c",
   "metadata": {},
   "source": [
    "#### COLORES VEHICULO"
   ]
  },
  {
   "cell_type": "markdown",
   "id": "2759c12b",
   "metadata": {},
   "source": [
    "Vamos a ver los colores de los que disponemos"
   ]
  },
  {
   "cell_type": "code",
   "execution_count": 4,
   "id": "8e2cf5b0",
   "metadata": {},
   "outputs": [
    {
     "name": "stdout",
     "output_type": "stream",
     "text": [
      "['17,37,103', '75,86,173', '180,42,42', '0,0,0', '137,0,0']\n"
     ]
    }
   ],
   "source": [
    "if bp.has_attribute('color'):\n",
    "    print(bp.get_attribute('color').recommended_values)"
   ]
  },
  {
   "cell_type": "markdown",
   "id": "a8aa2e0c",
   "metadata": {},
   "source": [
    "Primer color es el azul oscuro, el segundo azul claro, el tercero granate, el cuarto negro y el quinto granate oscuro, vamos a escoger el tercero"
   ]
  },
  {
   "cell_type": "markdown",
   "id": "0baa6bf2",
   "metadata": {},
   "source": [
    "#### POSICIÓN"
   ]
  },
  {
   "cell_type": "code",
   "execution_count": 5,
   "id": "846d189d",
   "metadata": {},
   "outputs": [
    {
     "name": "stdout",
     "output_type": "stream",
     "text": [
      "La posición actual del vehículo es Transform(Location(x=-64.644844, y=24.471010, z=0.001132), Rotation(pitch=0.000000, yaw=0.159198, roll=0.000000))\n"
     ]
    }
   ],
   "source": [
    "#Posicion del vehiculo\n",
    "vehicle_position=vehicle.get_transform()\n",
    "print(\"La posición actual del vehículo es\", vehicle_position)"
   ]
  },
  {
   "cell_type": "code",
   "execution_count": 6,
   "id": "1d3c7d9e",
   "metadata": {},
   "outputs": [
    {
     "name": "stdout",
     "output_type": "stream",
     "text": [
      "La posición inicial del vehículo es Transform(Location(x=-64.644844, y=24.471010, z=0.600000), Rotation(pitch=0.000000, yaw=0.159198, roll=0.000000))\n"
     ]
    }
   ],
   "source": [
    "#Posicion inicial\n",
    "print(\"La posición inicial del vehículo es\",start_point)"
   ]
  },
  {
   "cell_type": "markdown",
   "id": "5ecb56d9",
   "metadata": {},
   "source": [
    "La posición no cambia porque el vehículo no se ha movido"
   ]
  },
  {
   "cell_type": "markdown",
   "id": "65cea9b3",
   "metadata": {},
   "source": [
    "#### PILOTO AUTOMÁTICO"
   ]
  },
  {
   "cell_type": "code",
   "execution_count": 7,
   "id": "22ee7a26",
   "metadata": {},
   "outputs": [],
   "source": [
    "vehicle.set_autopilot(True)"
   ]
  },
  {
   "cell_type": "code",
   "execution_count": 8,
   "id": "45f364cb",
   "metadata": {},
   "outputs": [
    {
     "name": "stdout",
     "output_type": "stream",
     "text": [
      "Posición actual Transform(Location(x=-49.119392, y=18.999262, z=0.002201), Rotation(pitch=-0.060755, yaw=-35.829651, roll=0.274099))\n"
     ]
    }
   ],
   "source": [
    "vehicle_position=vehicle.get_transform()\n",
    "print(\"Posición actual\",vehicle_position)"
   ]
  },
  {
   "cell_type": "markdown",
   "id": "4a06f1e6",
   "metadata": {},
   "source": [
    "La posición cambia porque al poner autopilot el vehículo se ha movido"
   ]
  },
  {
   "cell_type": "markdown",
   "id": "ec41e297",
   "metadata": {},
   "source": [
    "#### DESTRUIR"
   ]
  },
  {
   "cell_type": "code",
   "execution_count": 9,
   "id": "9b71732a",
   "metadata": {},
   "outputs": [],
   "source": [
    "for actor in world.get_actors().filter('*vehicle*'):\n",
    "    actor.destroy()\n",
    "for sensor in world.get_actors().filter('*sensor*'):\n",
    "    sensor.destroy()"
   ]
  }
 ],
 "metadata": {
  "kernelspec": {
   "display_name": "Python 3 (ipykernel)",
   "language": "python",
   "name": "python3"
  },
  "language_info": {
   "codemirror_mode": {
    "name": "ipython",
    "version": 3
   },
   "file_extension": ".py",
   "mimetype": "text/x-python",
   "name": "python",
   "nbconvert_exporter": "python",
   "pygments_lexer": "ipython3",
   "version": "3.7.16"
  }
 },
 "nbformat": 4,
 "nbformat_minor": 5
}

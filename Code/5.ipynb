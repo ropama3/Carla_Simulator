{
 "cells": [
  {
   "cell_type": "markdown",
   "id": "4c9d24b3",
   "metadata": {},
   "source": [
    "# INTRODUCIR EL VEHICULO Y GUARDAR FOTOS DEL SENSOR\n",
    "María Rodríguez Palomo"
   ]
  },
  {
   "cell_type": "markdown",
   "id": "ecd04f21",
   "metadata": {},
   "source": [
    "#### IMPORTAMOS LAS LIBRERIAS QUE NECESITAMOS"
   ]
  },
  {
   "cell_type": "code",
   "execution_count": 1,
   "id": "20e74893",
   "metadata": {},
   "outputs": [],
   "source": [
    "import glob\n",
    "import os\n",
    "import sys\n",
    "import carla\n",
    "import random\n",
    "import time"
   ]
  },
  {
   "cell_type": "markdown",
   "id": "ef5cd0ab",
   "metadata": {},
   "source": [
    "#### CONECTAMOS CON EL SERVIDOR Y CREAMOS EL MUNDO"
   ]
  },
  {
   "cell_type": "code",
   "execution_count": 2,
   "id": "12cd1dde",
   "metadata": {},
   "outputs": [],
   "source": [
    "client = carla.Client('localhost', 2000)\n",
    "client.set_timeout(2000)\n",
    "client.load_world(\"Town05\")\n",
    "world = client.get_world()"
   ]
  },
  {
   "cell_type": "markdown",
   "id": "3b259a5c",
   "metadata": {},
   "source": [
    "#### CREAMOS EL VEHICULO"
   ]
  },
  {
   "cell_type": "code",
   "execution_count": 9,
   "id": "5dcd6b05",
   "metadata": {},
   "outputs": [],
   "source": [
    "blueprint_library = world.get_blueprint_library()\n",
    "bp = random.choice(blueprint_library.filter('vehicle'))\n",
    "if bp.has_attribute('color'):\n",
    "    color = random.choice(bp.get_attribute('color').recommended_values)\n",
    "    bp.set_attribute('color', color)\n",
    "transform = world.get_map().get_spawn_points()[2]\n",
    "vehicle = world.spawn_actor(bp, transform)"
   ]
  },
  {
   "cell_type": "code",
   "execution_count": 10,
   "id": "5c11a062",
   "metadata": {},
   "outputs": [
    {
     "name": "stdout",
     "output_type": "stream",
     "text": [
      "creado vehicle.mercedes.coupe\n"
     ]
    }
   ],
   "source": [
    "actor_list = []\n",
    "actor_list.append(vehicle)\n",
    "print('creado %s' % vehicle.type_id)\n",
    "vehicle.set_autopilot(True)"
   ]
  },
  {
   "cell_type": "markdown",
   "id": "2d3b9a19",
   "metadata": {},
   "source": [
    "#### CREAMOS LA CÁMARA"
   ]
  },
  {
   "cell_type": "code",
   "execution_count": 11,
   "id": "0a278401",
   "metadata": {},
   "outputs": [
    {
     "name": "stdout",
     "output_type": "stream",
     "text": [
      "creado sensor.camera.depth\n"
     ]
    }
   ],
   "source": [
    "camera_bp = blueprint_library.find('sensor.camera.depth')\n",
    "camera_transform = carla.Transform(carla.Location(x=1.5, z=2.4))\n",
    "camera = world.spawn_actor(camera_bp, camera_transform, attach_to=vehicle)\n",
    "actor_list.append(camera)\n",
    "print('creado %s' % camera.type_id)\n",
    "cc = carla.ColorConverter.LogarithmicDepth\n",
    "camera.listen(lambda image: image.save_to_disk('_out/%06d.png' % image.frame, cc))       "
   ]
  },
  {
   "cell_type": "markdown",
   "id": "fdd08e4b",
   "metadata": {},
   "source": [
    "#### OBTENEMOS LA LOCALIZACIÓN DEL COCHE"
   ]
  },
  {
   "cell_type": "code",
   "execution_count": 12,
   "id": "48aaf79c",
   "metadata": {},
   "outputs": [
    {
     "name": "stdout",
     "output_type": "stream",
     "text": [
      "vehículo movido a Location(x=-54.605305, y=-23.803663, z=0.197122)\n"
     ]
    }
   ],
   "source": [
    "location = vehicle.get_location()\n",
    "vehicle.set_location(location)\n",
    "print('vehículo movido a %s' % location)      "
   ]
  },
  {
   "cell_type": "markdown",
   "id": "41bcdf26",
   "metadata": {},
   "source": [
    "#### INCLUIMOS VEHICULOS"
   ]
  },
  {
   "cell_type": "code",
   "execution_count": 13,
   "id": "c2d6377b",
   "metadata": {},
   "outputs": [
    {
     "name": "stdout",
     "output_type": "stream",
     "text": [
      "creado vehicle.lincoln.mkz_2020\n",
      "creado vehicle.diamondback.century\n",
      "creado vehicle.bmw.grandtourer\n",
      "creado vehicle.mercedes.sprinter\n",
      "creado vehicle.yamaha.yzf\n"
     ]
    }
   ],
   "source": [
    "transform.location += carla.Location(x=40, y=-3.2)\n",
    "transform.rotation.yaw = -180.0\n",
    "for _ in range(0, 10):\n",
    "    transform.location.x += 8.0\n",
    "    bp = random.choice(blueprint_library.filter('vehicle'))\n",
    "    npc = world.try_spawn_actor(bp, transform)\n",
    "    if npc is not None:\n",
    "        actor_list.append(npc)\n",
    "        npc.set_autopilot(True)\n",
    "        print('creado %s' % npc.type_id)"
   ]
  },
  {
   "cell_type": "markdown",
   "id": "0c47b0f2",
   "metadata": {},
   "source": [
    "#### DESTRUIMOS"
   ]
  },
  {
   "cell_type": "code",
   "execution_count": 14,
   "id": "b4073b70",
   "metadata": {},
   "outputs": [
    {
     "name": "stdout",
     "output_type": "stream",
     "text": [
      "destruyendo los actors\n",
      "destruidos\n"
     ]
    }
   ],
   "source": [
    "print('destruyendo los actors')\n",
    "camera.destroy()\n",
    "client.apply_batch([carla.command.DestroyActor(x) for x in actor_list])\n",
    "print('destruidos')"
   ]
  },
  {
   "cell_type": "code",
   "execution_count": null,
   "id": "9e234e7b",
   "metadata": {},
   "outputs": [],
   "source": []
  },
  {
   "cell_type": "code",
   "execution_count": null,
   "id": "80f744b8",
   "metadata": {},
   "outputs": [],
   "source": []
  }
 ],
 "metadata": {
  "kernelspec": {
   "display_name": "Python 3 (ipykernel)",
   "language": "python",
   "name": "python3"
  },
  "language_info": {
   "codemirror_mode": {
    "name": "ipython",
    "version": 3
   },
   "file_extension": ".py",
   "mimetype": "text/x-python",
   "name": "python",
   "nbconvert_exporter": "python",
   "pygments_lexer": "ipython3",
   "version": "3.7.16"
  }
 },
 "nbformat": 4,
 "nbformat_minor": 5
}

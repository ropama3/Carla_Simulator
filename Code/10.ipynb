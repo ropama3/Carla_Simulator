{
 "cells": [
  {
   "cell_type": "markdown",
   "id": "8795c1e8",
   "metadata": {},
   "source": [
    "## CONDUCCIÓN POR EL CARRIL"
   ]
  },
  {
   "cell_type": "code",
   "execution_count": 1,
   "id": "eee82ab2",
   "metadata": {},
   "outputs": [],
   "source": [
    "import glob\n",
    "import os\n",
    "import sys\n",
    "import carla\n",
    "import argparse\n",
    "import random\n",
    "import time\n",
    "import math\n",
    "import numpy as np\n",
    "import cv2"
   ]
  },
  {
   "cell_type": "markdown",
   "id": "a83a5a40",
   "metadata": {},
   "source": [
    "#### CREAR MUNDO"
   ]
  },
  {
   "cell_type": "code",
   "execution_count": 2,
   "id": "07a12527",
   "metadata": {},
   "outputs": [],
   "source": [
    "client = carla.Client('localhost', 2000)\n",
    "client.set_timeout(2000)\n",
    "#client.load_world(\"Town05\")\n",
    "world = client.get_world()\n",
    "map = world.get_map()"
   ]
  },
  {
   "cell_type": "markdown",
   "id": "925c242e",
   "metadata": {},
   "source": [
    "#### CAMBIO DE VISTA"
   ]
  },
  {
   "cell_type": "code",
   "execution_count": 3,
   "id": "cd89e8ac",
   "metadata": {},
   "outputs": [],
   "source": [
    "loc2=carla.Transform(carla.Location(x=-174.557922, y=185.525208, z=10.138501), carla.Rotation(pitch=0.733207, yaw=-147.194565, roll=0.006472))\n",
    "spectator = world.get_spectator()\n",
    "spectator_pos = carla.Transform(loc2.location + carla.Location(x=10,y=10,z=4),carla.Rotation(yaw=loc2.rotation.yaw))\n",
    "spectator.set_transform(spectator_pos)"
   ]
  },
  {
   "cell_type": "markdown",
   "id": "a09e1cbb",
   "metadata": {},
   "source": [
    "#### CREACIÓN DEL VEHÍCULO"
   ]
  },
  {
   "cell_type": "code",
   "execution_count": 6,
   "id": "af821e6f",
   "metadata": {},
   "outputs": [],
   "source": [
    "blueprint_library = world.get_blueprint_library()\n",
    "bp = random.choice(blueprint_library.filter('vehicle.tesla.model3'))\n",
    "\n",
    "if bp.has_attribute('color'):\n",
    "    color = bp.get_attribute('color').recommended_values[2]\n",
    "    bp.set_attribute('color', '255,0,255')\n",
    "\n",
    "vehicle = world.spawn_actor(bp, loc2)"
   ]
  },
  {
   "cell_type": "markdown",
   "id": "53c5c64b",
   "metadata": {},
   "source": [
    "#### VELOCIDAD CONSTANTE"
   ]
  },
  {
   "cell_type": "code",
   "execution_count": 7,
   "id": "9fe8763e",
   "metadata": {},
   "outputs": [],
   "source": [
    "def maintain_speed(s,preferred_speed,speed_threshold):\n",
    "    #el return es la aceleración\n",
    "    if s>=preferred_speed:\n",
    "        return 0\n",
    "    elif s < preferred_speed - speed_threshold:\n",
    "        return 0.8\n",
    "    else:\n",
    "        return 0.4"
   ]
  },
  {
   "cell_type": "markdown",
   "id": "8864c1b9",
   "metadata": {},
   "source": [
    "#### ANGULO"
   ]
  },
  {
   "cell_type": "code",
   "execution_count": 8,
   "id": "dd2dcdbc",
   "metadata": {},
   "outputs": [],
   "source": [
    "def angle_between(v1, v2):\n",
    "    return math.degrees(np.arctan2(v1[1], v1[0]) - np.arctan2(v2[1], v2[0]))\n",
    "\n",
    "def get_angle(car,wp):\n",
    "    vehicle_pos = car.get_transform()\n",
    "    car_x = vehicle_pos.location.x\n",
    "    car_y = vehicle_pos.location.y\n",
    "    wp_x = wp.transform.location.x\n",
    "    wp_y = wp.transform.location.y\n",
    "    \n",
    "    x = (wp_x - car_x)/((wp_y - car_y)**2 + (wp_x - car_x)**2)**0.5\n",
    "    y = (wp_y - car_y)/((wp_y - car_y)**2 + (wp_x - car_x)**2)**0.5\n",
    "    \n",
    "    car_vector = vehicle_pos.get_forward_vector()\n",
    "    degrees = angle_between((x,y),(car_vector.x,car_vector.y))\n",
    "    return degrees"
   ]
  },
  {
   "cell_type": "code",
   "execution_count": 9,
   "id": "6a27d899",
   "metadata": {},
   "outputs": [],
   "source": [
    "#Calculo del giro\n",
    "def steer(predicted_angle,MAX_STEER_DEGREES):\n",
    "    if predicted_angle<-180:\n",
    "        predicted_angle = predicted_angle+360\n",
    "    elif predicted_angle > 180:\n",
    "        predicted_angle = predicted_angle-360\n",
    "    steer_input = predicted_angle\n",
    "    if predicted_angle<-MAX_STEER_DEGREES:\n",
    "        steer_input = -MAX_STEER_DEGREES\n",
    "    elif predicted_angle>MAX_STEER_DEGREES:\n",
    "        steer_input = MAX_STEER_DEGREES\n",
    "    steer_input = steer_input/75\n",
    "    return steer_input"
   ]
  },
  {
   "cell_type": "markdown",
   "id": "5f737730",
   "metadata": {},
   "source": [
    "#### VISTA PARA EL PROGRAMADOR"
   ]
  },
  {
   "cell_type": "code",
   "execution_count": 10,
   "id": "8352632e",
   "metadata": {},
   "outputs": [],
   "source": [
    "def camera_callback(image,data_dict):\n",
    "    data_dict['image'] = np.reshape(np.copy(image.raw_data),(image.height,image.width,4))"
   ]
  },
  {
   "cell_type": "code",
   "execution_count": 11,
   "id": "b74dba61",
   "metadata": {},
   "outputs": [],
   "source": [
    "CAMERA_POS_Z = 3\n",
    "CAMERA_POS_X = -5\n",
    "camera_bp=world.get_blueprint_library().find('sensor.camera.rgb')\n",
    "camera_bp.set_attribute('image_size_x','640')\n",
    "camera_bp.set_attribute('image_size_y','360')\n",
    "camera_init_trans= carla.Transform(carla.Location(z=CAMERA_POS_Z,x=CAMERA_POS_X))\n",
    "camera=world.spawn_actor(camera_bp,camera_init_trans,attach_to=vehicle)\n",
    "image_w= camera_bp.get_attribute('image_size_x').as_int()\n",
    "image_h= camera_bp.get_attribute('image_size_y').as_int()\n",
    "camera_data = {'image':np.zeros((image_h,image_w,4))}\n",
    "camera.listen(lambda image: camera_callback(image,camera_data))"
   ]
  },
  {
   "cell_type": "markdown",
   "id": "35edf481",
   "metadata": {},
   "source": [
    "#### CONDUCCIÓN"
   ]
  },
  {
   "cell_type": "code",
   "execution_count": 12,
   "id": "8d785e41",
   "metadata": {},
   "outputs": [],
   "source": [
    "cv2.namedWindow('RGB Camera', cv2.WINDOW_AUTOSIZE)\n",
    "cv2.imshow('RGB Camera', camera_data['image'])\n",
    "quit=False\n",
    "preferred_speed = 30\n",
    "speed_threshold = 2\n",
    "MAX_STEER_DEGREES = 6\n",
    "\n",
    "while True:\n",
    "    #CAMARA \n",
    "    world.tick()\n",
    "    if cv2.waitKey(1)==ord('q'): #si pulsamos la tecla q la pestaña desaparece\n",
    "        quit=True\n",
    "        break\n",
    "    image = camera_data['image']\n",
    "    \n",
    "    loc=vehicle.get_location()\n",
    "    current_w = map.get_waypoint(loc)\n",
    "    waypoint_separation = 5\n",
    "    next_w0 = list(current_w.next(waypoint_separation))[0]\n",
    "    next_w = map.get_waypoint(next_w0.transform.location,project_to_road=True, lane_type=(carla.LaneType.Driving))\n",
    "    \n",
    "    velocity = vehicle.get_velocity()\n",
    "    speed = round(3.6 *math.sqrt(velocity.x**2+ velocity.y**2+velocity.z**2),0)\n",
    "    \n",
    "    image=cv2.putText(image,'Speed: '+str(int(speed))+' km/h', (30,50),cv2.FONT_HERSHEY_SIMPLEX,0.5,(255,255,255),1,cv2.LINE_AA)\n",
    "    estimated_throttle = maintain_speed(speed,preferred_speed,speed_threshold)\n",
    "    predicted_angle = get_angle(vehicle,next_w)\n",
    "    steer_input=steer(predicted_angle,MAX_STEER_DEGREES)\n",
    "    vehicle.apply_control(carla.VehicleControl(throttle= estimated_throttle, steer=steer_input))\n",
    "    \n",
    "    cv2.imshow('RGB Camera', image)\n",
    "cv2.destroyAllWindows()\n",
    "camera.stop()"
   ]
  },
  {
   "cell_type": "markdown",
   "id": "26227578",
   "metadata": {},
   "source": [
    "#### DESTRUIR"
   ]
  },
  {
   "cell_type": "code",
   "execution_count": 13,
   "id": "c2441a4b",
   "metadata": {},
   "outputs": [],
   "source": [
    "for actor in world.get_actors().filter('*vehicle*'):\n",
    "    actor.destroy()\n",
    "for sensor in world.get_actors().filter('*sensor*'):\n",
    "    sensor.destroy()"
   ]
  },
  {
   "cell_type": "code",
   "execution_count": null,
   "id": "7159492f",
   "metadata": {},
   "outputs": [],
   "source": []
  }
 ],
 "metadata": {
  "kernelspec": {
   "display_name": "Python 3 (ipykernel)",
   "language": "python",
   "name": "python3"
  },
  "language_info": {
   "codemirror_mode": {
    "name": "ipython",
    "version": 3
   },
   "file_extension": ".py",
   "mimetype": "text/x-python",
   "name": "python",
   "nbconvert_exporter": "python",
   "pygments_lexer": "ipython3",
   "version": "3.7.16"
  }
 },
 "nbformat": 4,
 "nbformat_minor": 5
}

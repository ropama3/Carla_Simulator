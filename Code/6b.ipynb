{
 "cells": [
  {
   "cell_type": "markdown",
   "id": "b5fb7a52",
   "metadata": {},
   "source": [
    "## PRUEBAS CON DOS VEHICULOS"
   ]
  },
  {
   "cell_type": "markdown",
   "id": "4c5573f8",
   "metadata": {},
   "source": [
    "Librerias"
   ]
  },
  {
   "cell_type": "code",
   "execution_count": 3,
   "id": "5671f804",
   "metadata": {},
   "outputs": [],
   "source": [
    "import glob\n",
    "import os\n",
    "import sys\n",
    "import carla\n",
    "import random\n",
    "import time"
   ]
  },
  {
   "cell_type": "markdown",
   "id": "8195e9f3",
   "metadata": {},
   "source": [
    "Creamos el mundo"
   ]
  },
  {
   "cell_type": "code",
   "execution_count": 4,
   "id": "21823da4",
   "metadata": {},
   "outputs": [],
   "source": [
    "client = carla.Client('localhost', 2000)\n",
    "client.set_timeout(2000)\n",
    "#Usaremos el mapa que se carga por defecto al abrir carla\n",
    "world = client.get_world()\n",
    "blueprint_library = world.get_blueprint_library()"
   ]
  },
  {
   "cell_type": "markdown",
   "id": "c39e79a4",
   "metadata": {},
   "source": [
    "Creamos los dos coches"
   ]
  },
  {
   "cell_type": "code",
   "execution_count": 6,
   "id": "6782a588",
   "metadata": {},
   "outputs": [],
   "source": [
    "start_point = world.get_map().get_spawn_points()[0]\n",
    "dodge_bp = random.choice(blueprint_library.filter('vehicle.dodge.charger_2020'))\n",
    "mini_bp = random.choice(blueprint_library.filter('vehicle.mini.cooper_s_2021'))\n",
    "dodge = world.spawn_actor(dodge_bp, start_point)"
   ]
  },
  {
   "cell_type": "markdown",
   "id": "a33a5a5b",
   "metadata": {},
   "source": [
    "#### CAMBIO DE POSICIÓN DE LA VISTA"
   ]
  },
  {
   "cell_type": "code",
   "execution_count": 7,
   "id": "19230429",
   "metadata": {},
   "outputs": [],
   "source": [
    "#posición de la vista del programador\n",
    "spectator = world.get_spectator()\n",
    "start_point = world.get_map().get_spawn_points()[0]\n",
    "spectator_pos = carla.Transform(start_point.location + carla.Location(x=20,y=10,z=4),carla.Rotation(yaw=start_point.rotation.yaw-155))\n",
    "spectator.set_transform(spectator_pos)"
   ]
  },
  {
   "cell_type": "markdown",
   "id": "ea7519e0",
   "metadata": {},
   "source": [
    "#### CREACIÓN DEL SEGUNO VEHICULO EN EL AIRE"
   ]
  },
  {
   "cell_type": "code",
   "execution_count": 8,
   "id": "ab88c1c9",
   "metadata": {},
   "outputs": [],
   "source": [
    "start_point_10 = world.get_map().get_spawn_points()[10]\n",
    "mini= world.try_spawn_actor(mini_bp, start_point_10)\n",
    "mini_position =  carla.Transform(start_point.location + carla.Location(x=-4,z=10),carla.Rotation(yaw=start_point.rotation.yaw-0))\n",
    "mini.set_transform(mini_position)"
   ]
  },
  {
   "cell_type": "markdown",
   "id": "5dae4beb",
   "metadata": {},
   "source": [
    "#### DESTRUIR"
   ]
  },
  {
   "cell_type": "code",
   "execution_count": 9,
   "id": "ce4a5c68",
   "metadata": {},
   "outputs": [],
   "source": [
    "for actor in world.get_actors().filter('*vehicle*'):\n",
    "    actor.destroy()\n",
    "for sensor in world.get_actors().filter('*sensor*'):\n",
    "    sensor.destroy()"
   ]
  }
 ],
 "metadata": {
  "kernelspec": {
   "display_name": "Python 3 (ipykernel)",
   "language": "python",
   "name": "python3"
  },
  "language_info": {
   "codemirror_mode": {
    "name": "ipython",
    "version": 3
   },
   "file_extension": ".py",
   "mimetype": "text/x-python",
   "name": "python",
   "nbconvert_exporter": "python",
   "pygments_lexer": "ipython3",
   "version": "3.7.16"
  }
 },
 "nbformat": 4,
 "nbformat_minor": 5
}

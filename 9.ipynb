{
 "cells": [
  {
   "cell_type": "markdown",
   "id": "8795c1e8",
   "metadata": {},
   "source": [
    "# IR DE UN WAYPOINT AL SIGUIENTE Y PARAR"
   ]
  },
  {
   "cell_type": "code",
   "execution_count": 1,
   "id": "eee82ab2",
   "metadata": {},
   "outputs": [],
   "source": [
    "import glob\n",
    "import os\n",
    "import sys\n",
    "import carla\n",
    "import argparse\n",
    "import random\n",
    "import time\n",
    "import math\n",
    "import numpy as np\n",
    "import cv2"
   ]
  },
  {
   "cell_type": "markdown",
   "id": "a83a5a40",
   "metadata": {},
   "source": [
    "#### CREAR MUNDO"
   ]
  },
  {
   "cell_type": "code",
   "execution_count": 2,
   "id": "af821e6f",
   "metadata": {},
   "outputs": [],
   "source": [
    "client = carla.Client('localhost', 2000)\n",
    "client.set_timeout(2000)\n",
    "client.load_world(\"Town05\")\n",
    "world = client.get_world()\n",
    "map = world.get_map()"
   ]
  },
  {
   "cell_type": "markdown",
   "id": "925c242e",
   "metadata": {},
   "source": [
    "#### CAMBIO DE VISTA"
   ]
  },
  {
   "cell_type": "code",
   "execution_count": 8,
   "id": "cd89e8ac",
   "metadata": {},
   "outputs": [],
   "source": [
    "loc2=carla.Transform(carla.Location(x=-174.557922, y=185.525208, z=10.138501), carla.Rotation(pitch=0.733207, yaw=-147.194565, roll=0.006472))\n",
    "spectator = world.get_spectator()\n",
    "spectator_pos = carla.Transform(loc2.location + carla.Location(x=10,y=5,z=4),carla.Rotation(yaw=loc2.rotation.yaw))\n",
    "spectator.set_transform(spectator_pos)"
   ]
  },
  {
   "cell_type": "markdown",
   "id": "c261b083",
   "metadata": {},
   "source": [
    "#### CREAR VEHÍCULO"
   ]
  },
  {
   "cell_type": "code",
   "execution_count": 14,
   "id": "1c5d5f10",
   "metadata": {},
   "outputs": [],
   "source": [
    "blueprint_library = world.get_blueprint_library()\n",
    "bp = random.choice(blueprint_library.filter('vehicle.tesla.model3'))\n",
    "\n",
    "if bp.has_attribute('color'):\n",
    "    color = bp.get_attribute('color').recommended_values[2]\n",
    "    bp.set_attribute('color', '255,0,255')\n",
    "\n",
    "vehicle = world.spawn_actor(bp, loc2)"
   ]
  },
  {
   "cell_type": "markdown",
   "id": "53c5c64b",
   "metadata": {},
   "source": [
    "#### VELOCIDAD CONSTANTE\n",
    "Función para llevar una velocidad constante"
   ]
  },
  {
   "cell_type": "code",
   "execution_count": 6,
   "id": "9fe8763e",
   "metadata": {},
   "outputs": [],
   "source": [
    "def maintain_speed(s,preferred_speed,speed_threshold):\n",
    "    #el return es la aceleración\n",
    "    if s>=10:\n",
    "        return 0\n",
    "    elif s < 10 - 2:\n",
    "        return 0.8\n",
    "    else:\n",
    "        return 0.4"
   ]
  },
  {
   "cell_type": "markdown",
   "id": "8864c1b9",
   "metadata": {},
   "source": [
    "#### ANGULO\n",
    "Función que calcula el ángulo entre dos vectores"
   ]
  },
  {
   "cell_type": "code",
   "execution_count": 7,
   "id": "dd2dcdbc",
   "metadata": {},
   "outputs": [],
   "source": [
    "def angle_between(v1, v2):\n",
    "    return math.degrees(np.arctan2(v1[1], v1[0]) - np.arctan2(v2[1], v2[0]))\n",
    "\n",
    "def get_angle(car,wp):\n",
    "    vehicle_pos = car.get_transform()\n",
    "    car_x = vehicle_pos.location.x\n",
    "    car_y = vehicle_pos.location.y\n",
    "    wp_x = wp.transform.location.x\n",
    "    wp_y = wp.transform.location.y\n",
    "    print(car_x)\n",
    "    print(car_y)\n",
    "    print(wp_x)\n",
    "    print(wp_y)\n",
    "    \n",
    "    x = (wp_x - car_x)/((wp_y - car_y)**2 + (wp_x - car_x)**2)**0.5\n",
    "    y = (wp_y - car_y)/((wp_y - car_y)**2 + (wp_x - car_x)**2)**0.5\n",
    "    \n",
    "    car_vector = vehicle_pos.get_forward_vector()\n",
    "    degrees = angle_between((x,y),(car_vector.x,car_vector.y))\n",
    "    return degrees"
   ]
  },
  {
   "cell_type": "code",
   "execution_count": 10,
   "id": "30186b03",
   "metadata": {},
   "outputs": [],
   "source": [
    "#Calculo del giro\n",
    "def steer(predicted_angle,MAX_STEER_DEGREES):\n",
    "    if predicted_angle<-180:\n",
    "        predicted_angle = predicted_angle+360\n",
    "    elif predicted_angle > 180:\n",
    "        predicted_angle = predicted_angle-360\n",
    "    steer_input = predicted_angle\n",
    "    if predicted_angle<-MAX_STEER_DEGREES:\n",
    "        steer_input = -MAX_STEER_DEGREES\n",
    "    elif predicted_angle>MAX_STEER_DEGREES:\n",
    "        steer_input = MAX_STEER_DEGREES\n",
    "    steer_input = steer_input/75\n",
    "    return steer_input"
   ]
  },
  {
   "cell_type": "markdown",
   "id": "35edf481",
   "metadata": {},
   "source": [
    "#### LOCALIZACION INICIAL Y NEXT\n",
    "Saca por pantalla la localización en la que estamos y el siguiente punto unos metros más delante y en el mismo carril"
   ]
  },
  {
   "cell_type": "code",
   "execution_count": 25,
   "id": "72aba038",
   "metadata": {},
   "outputs": [
    {
     "name": "stdout",
     "output_type": "stream",
     "text": [
      "Initial location:  Transform(Location(x=-207.346069, y=163.224777, z=9.402478), Rotation(pitch=0.547897, yaw=-133.580383, roll=-0.008636))\n",
      "next:  Transform(Location(x=-209.589508, y=159.472366, z=9.445031), Rotation(pitch=360.530823, yaw=230.039185, roll=0.000000))\n"
     ]
    }
   ],
   "source": [
    "print(\"Initial location: \", vehicle.get_transform())\n",
    "loc=vehicle.get_location()\n",
    "current_w = map.get_waypoint(loc)\n",
    "#Calculo del siguiente punto al que ir\n",
    "waypoint_separation = 5\n",
    "next_w0 = list(current_w.next(waypoint_separation))[0]\n",
    "next_w = map.get_waypoint(next_w0.transform.location,project_to_road=True, lane_type=(carla.LaneType.Driving))\n",
    "print(\"next: \",next_w.transform)"
   ]
  },
  {
   "cell_type": "markdown",
   "id": "35a77320",
   "metadata": {},
   "source": [
    "#### IMPLEMENTAR ÁNGULO Y VELOCIDAD AL COCHE "
   ]
  },
  {
   "cell_type": "code",
   "execution_count": 26,
   "id": "4238872e",
   "metadata": {},
   "outputs": [
    {
     "name": "stdout",
     "output_type": "stream",
     "text": [
      "-207.3460693359375\n",
      "163.2247772216797\n",
      "-209.58950805664062\n",
      "159.4723663330078\n",
      "Hemos llegado a next\n"
     ]
    }
   ],
   "source": [
    "preferred_speed = 10\n",
    "speed_threshold = 2\n",
    "MAX_STEER_DEGREES = 5\n",
    "velocity = vehicle.get_velocity()\n",
    "speed = round(3.6 *math.sqrt(velocity.x**2+ velocity.y**2+velocity.z**2),0)\n",
    "estimated_throttle = maintain_speed(speed,preferred_speed,speed_threshold)\n",
    "predicted_angle = get_angle(vehicle,next_w)\n",
    "steer_input=steer(predicted_angle,MAX_STEER_DEGREES)\n",
    "#Aplicamos los cálculos al coche\n",
    "vehicle.apply_control(carla.VehicleControl(throttle= estimated_throttle, steer=steer_input))\n",
    "while True:\n",
    "    if vehicle.get_transform().location.x<= next_w.transform.location.x and vehicle.get_transform().location.y<= next_w.transform.location.y:\n",
    "        vehicle.apply_control(carla.VehicleControl(brake=1.0,throttle= 0, steer=0))\n",
    "        print(\"Hemos llegado a next\")\n",
    "        break"
   ]
  },
  {
   "cell_type": "markdown",
   "id": "26227578",
   "metadata": {},
   "source": [
    "### DESTRUIR"
   ]
  },
  {
   "cell_type": "code",
   "execution_count": 27,
   "id": "c2441a4b",
   "metadata": {},
   "outputs": [],
   "source": [
    "for actor in world.get_actors().filter('*vehicle*'):\n",
    "    actor.destroy()\n",
    "for sensor in world.get_actors().filter('*sensor*'):\n",
    "    sensor.destroy()"
   ]
  }
 ],
 "metadata": {
  "kernelspec": {
   "display_name": "Python 3 (ipykernel)",
   "language": "python",
   "name": "python3"
  },
  "language_info": {
   "codemirror_mode": {
    "name": "ipython",
    "version": 3
   },
   "file_extension": ".py",
   "mimetype": "text/x-python",
   "name": "python",
   "nbconvert_exporter": "python",
   "pygments_lexer": "ipython3",
   "version": "3.7.16"
  }
 },
 "nbformat": 4,
 "nbformat_minor": 5
}

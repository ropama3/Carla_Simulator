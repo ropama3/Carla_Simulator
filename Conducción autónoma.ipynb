{
 "cells": [
  {
   "cell_type": "markdown",
   "id": "f04b3aff",
   "metadata": {},
   "source": [
    "# CONDUCCIÓN AUTÓNOMA\n",
    "María Rodríguez Palomo"
   ]
  },
  {
   "cell_type": "markdown",
   "id": "f311c95c",
   "metadata": {},
   "source": [
    "En este script veremos como podemos crear el código para la conducción autonoma de un vehículo en Carla Simulator.\n",
    "Para ello haremos que el coche circule por el carril en el que lo creamos. También detectaremos semáforos y señales. A su vez, haremos un cambio de clima en el simulador."
   ]
  },
  {
   "cell_type": "markdown",
   "id": "fd528941",
   "metadata": {},
   "source": [
    "### PARTE 0: IMPORTAMOS LAS LIBRERIAS NECESARIAS"
   ]
  },
  {
   "cell_type": "code",
   "execution_count": 1,
   "id": "4848bb0e",
   "metadata": {},
   "outputs": [],
   "source": [
    "import carla \n",
    "import cv2 \n",
    "import numpy as np \n",
    "from matplotlib import pyplot as plt \n",
    "import time\n",
    "import random\n",
    "import math\n",
    "import glob\n",
    "import os\n",
    "import sys\n",
    "import argparse\n",
    "import keyboard as kb\n",
    "import re"
   ]
  },
  {
   "cell_type": "markdown",
   "id": "4e85a35e",
   "metadata": {},
   "source": [
    "### PARTE 1: CREACIÓN DE LOS AGENTES"
   ]
  },
  {
   "cell_type": "markdown",
   "id": "fd6aac7d",
   "metadata": {},
   "source": [
    "#### MUNDO\n",
    "En nuestro caso vamos a trabajar con el circuito de fuera de la ciudad del mundo 05."
   ]
  },
  {
   "cell_type": "code",
   "execution_count": 2,
   "id": "37314fd6",
   "metadata": {},
   "outputs": [],
   "source": [
    "client = carla.Client('localhost', 2000)\n",
    "client.set_timeout(2000)\n",
    "client.load_world(\"Town05\")\n",
    "world = client.get_world()\n",
    "map = world.get_map()"
   ]
  },
  {
   "cell_type": "markdown",
   "id": "b3498555",
   "metadata": {},
   "source": [
    "#### VISTA\n",
    "Vamos a cambiar la perspectiva de vista de carla simulator para poder ver en todo momento que hace el vehículo"
   ]
  },
  {
   "cell_type": "code",
   "execution_count": 3,
   "id": "b6318b1c",
   "metadata": {},
   "outputs": [],
   "source": [
    "loc=carla.Transform(carla.Location(x=171.557922, y=157.525208, z=1.138501), carla.Rotation(pitch=0.533207, yaw=-237.194565, roll=0.006472))\n",
    "spectator = world.get_spectator()\n",
    "spectator_pos = carla.Transform(loc.location + carla.Location(x=6,y=-6,z=4),carla.Rotation(yaw=loc.rotation.yaw))\n",
    "spectator.set_transform(spectator_pos)"
   ]
  },
  {
   "cell_type": "markdown",
   "id": "266c0f1d",
   "metadata": {},
   "source": [
    "#### COCHE\n",
    "Vamos a crear un coche Tesla color fuccia en la localización especificada en loc."
   ]
  },
  {
   "cell_type": "code",
   "execution_count": 4,
   "id": "fa86abff",
   "metadata": {},
   "outputs": [],
   "source": [
    "blueprint_library = world.get_blueprint_library()\n",
    "bp = random.choice(blueprint_library.filter('vehicle.tesla.model3'))\n",
    "\n",
    "if bp.has_attribute('color'):\n",
    "    color = bp.get_attribute('color').recommended_values[2]\n",
    "    bp.set_attribute('color', '255,0,255')\n",
    "\n",
    "vehicle = world.spawn_actor(bp, loc)"
   ]
  },
  {
   "cell_type": "markdown",
   "id": "aac62b98",
   "metadata": {},
   "source": [
    "#### SENSOR\n",
    "Crearemos una cámara que vaya pegada al coche que nos muestre que está pasando en todo momento."
   ]
  },
  {
   "cell_type": "code",
   "execution_count": 5,
   "id": "84c3a8c2",
   "metadata": {},
   "outputs": [],
   "source": [
    "def camera_callback(image,data_dict):\n",
    "    data_dict['image'] = np.reshape(np.copy(image.raw_data),(image.height,image.width,4))"
   ]
  },
  {
   "cell_type": "code",
   "execution_count": 6,
   "id": "3cd661ce",
   "metadata": {},
   "outputs": [],
   "source": [
    "CAMERA_POS_Z = 3\n",
    "CAMERA_POS_X = -5\n",
    "camera_bp=world.get_blueprint_library().find('sensor.camera.rgb')\n",
    "camera_bp.set_attribute('image_size_x','640')\n",
    "camera_bp.set_attribute('image_size_y','360')\n",
    "camera_init_trans= carla.Transform(carla.Location(z=CAMERA_POS_Z,x=CAMERA_POS_X))\n",
    "camera=world.spawn_actor(camera_bp,camera_init_trans,attach_to=vehicle)\n",
    "image_w= camera_bp.get_attribute('image_size_x').as_int()\n",
    "image_h= camera_bp.get_attribute('image_size_y').as_int()\n",
    "camera_data = {'image':np.zeros((image_h,image_w,4))}\n",
    "camera.listen(lambda image: camera_callback(image,camera_data))"
   ]
  },
  {
   "cell_type": "markdown",
   "id": "e58ad71f",
   "metadata": {},
   "source": [
    "### PARTE 2: CONDUCCIÓN EN EL CARRIL"
   ]
  },
  {
   "cell_type": "markdown",
   "id": "e0ab553a",
   "metadata": {},
   "source": [
    "#### VELOCIDAD\n",
    "Creamos una función que según la velocidad limite nos calcule la aceleración necesaria para llevar una velocidad lo más parecida posible sin pasarnos"
   ]
  },
  {
   "cell_type": "code",
   "execution_count": 7,
   "id": "88b64aed",
   "metadata": {},
   "outputs": [],
   "source": [
    "def maintain_speed(s,preferred_speed,speed_threshold):\n",
    "    if s >= preferred_speed:\n",
    "        return 0\n",
    "    elif s < preferred_speed - speed_threshold:\n",
    "        return 0.8\n",
    "    else:\n",
    "        return 0.4"
   ]
  },
  {
   "cell_type": "markdown",
   "id": "7e72ce33",
   "metadata": {},
   "source": [
    "#### ANGULO\n",
    "Creamos una función que nos calcule el ángulo entre dos puntos del mapa."
   ]
  },
  {
   "cell_type": "code",
   "execution_count": 8,
   "id": "15489420",
   "metadata": {},
   "outputs": [],
   "source": [
    "def angle_between(v1, v2):\n",
    "    return math.degrees(np.arctan2(v1[1], v1[0]) - np.arctan2(v2[1], v2[0]))\n",
    "\n",
    "def get_angle(car,wp):\n",
    "    vehicle_pos = car.get_transform()\n",
    "    car_x = vehicle_pos.location.x\n",
    "    car_y = vehicle_pos.location.y\n",
    "    wp_x = wp.transform.location.x\n",
    "    wp_y = wp.transform.location.y\n",
    "    \n",
    "    x = (wp_x - car_x)/((wp_y - car_y)**2 + (wp_x - car_x)**2)**0.5\n",
    "    y = (wp_y - car_y)/((wp_y - car_y)**2 + (wp_x - car_x)**2)**0.5\n",
    "    \n",
    "    car_vector = vehicle_pos.get_forward_vector()\n",
    "    degrees = angle_between((x,y),(car_vector.x,car_vector.y))\n",
    "    return degrees"
   ]
  },
  {
   "cell_type": "markdown",
   "id": "bdb756e3",
   "metadata": {},
   "source": [
    "#### STEER\n",
    "Creamos una función que nos calcule el angulo y la dirección a aplicar al vehículo."
   ]
  },
  {
   "cell_type": "code",
   "execution_count": 9,
   "id": "9ba7d8c4",
   "metadata": {},
   "outputs": [],
   "source": [
    "def steer(predicted_angle,MAX_STEER_DEGREES):\n",
    "    if predicted_angle<-180:\n",
    "        predicted_angle = predicted_angle+360\n",
    "    elif predicted_angle > 180:\n",
    "        predicted_angle = predicted_angle-360\n",
    "    steer_input = predicted_angle\n",
    "    if predicted_angle<-MAX_STEER_DEGREES:\n",
    "        steer_input = -MAX_STEER_DEGREES\n",
    "    elif predicted_angle>MAX_STEER_DEGREES:\n",
    "        steer_input = MAX_STEER_DEGREES\n",
    "    steer_input = steer_input/75\n",
    "    return steer_input"
   ]
  },
  {
   "cell_type": "markdown",
   "id": "a826ea6f",
   "metadata": {},
   "source": [
    "### PARTE 3: CAMBIO DEL TIEMPO\n",
    "Creamos una función que nos cambie el tiempo aleatorimente."
   ]
  },
  {
   "cell_type": "code",
   "execution_count": 10,
   "id": "3f102418",
   "metadata": {},
   "outputs": [],
   "source": [
    "def weather():\n",
    "    weather = carla.WeatherParameters(\n",
    "            cloudiness=random.randint(0,100),\n",
    "            precipitation=random.randint(0,100),\n",
    "            sun_altitude_angle=random.randint(0,100),\n",
    "            precipitation_deposits =random.randint(0,100),\n",
    "            fog_density =random.choice([0.0,0.1,0.3,0.4,0.95]),\n",
    "            wetness = random.randint(0,100))\n",
    "    world.set_weather(weather)"
   ]
  },
  {
   "cell_type": "markdown",
   "id": "2c0b5898",
   "metadata": {},
   "source": [
    "### PARTE 4: SEMÁFOROS"
   ]
  },
  {
   "cell_type": "markdown",
   "id": "29964b71",
   "metadata": {},
   "source": [
    "#### LUZ\n",
    "Creamos una función que nos devuelva el color de la luz del semáforo correspondiente a nuestro carril y zona."
   ]
  },
  {
   "cell_type": "code",
   "execution_count": 11,
   "id": "19ca1e75",
   "metadata": {},
   "outputs": [],
   "source": [
    "def is_traffic_light_red(vehicle, world):\n",
    "    location = vehicle.get_location()\n",
    "    actor_list = world.get_actors()\n",
    "\n",
    "    for actor in actor_list:\n",
    "        if actor.type_id.startswith(\"traffic.traffic_light\"):\n",
    "            traffic_light_location = actor.get_location()\n",
    "            distance = location.distance(traffic_light_location)\n",
    "            if distance < 37.0:\n",
    "                traffic_light_state = actor.get_state()\n",
    "                vehicle_waypoint = world.get_map().get_waypoint(location)\n",
    "                traffic_light_waypoint = world.get_map().get_waypoint(traffic_light_location)\n",
    "                if traffic_light_waypoint.lane_id == 1:\n",
    "                    if traffic_light_state == carla.TrafficLightState.Red:\n",
    "                        return True\n",
    "                    elif traffic_light_state == carla.TrafficLightState.Green:\n",
    "                        return False"
   ]
  },
  {
   "cell_type": "markdown",
   "id": "ef9308e9",
   "metadata": {},
   "source": [
    "#### FRENO\n",
    "Fnción que frena el vehículo si hay un semáforo en rojo y si no aplica la velocidad previamente calculada."
   ]
  },
  {
   "cell_type": "code",
   "execution_count": 12,
   "id": "ce6477c4",
   "metadata": {},
   "outputs": [],
   "source": [
    "def freno(light,brake_intensity,vehicle,estimated_throttle,steer_input):\n",
    "    if light:\n",
    "        control = carla.VehicleControl(brake=brake_intensity)\n",
    "        vehicle.apply_control(control)\n",
    "    else:    \n",
    "        vehicle.apply_control(carla.VehicleControl(throttle= estimated_throttle, steer=steer_input))"
   ]
  },
  {
   "cell_type": "markdown",
   "id": "de262d8f",
   "metadata": {},
   "source": [
    "### PARTE 6: SEÑALES\n",
    "Creación de una función que detecta señales de velocidad que afectan al carril del coche y devuelve la velocidad limite."
   ]
  },
  {
   "cell_type": "code",
   "execution_count": 13,
   "id": "b56dad7f",
   "metadata": {},
   "outputs": [],
   "source": [
    "def signs(vehicle, world):\n",
    "    location = vehicle.get_location()\n",
    "    actor_list = world.get_actors()\n",
    "\n",
    "    for actor in actor_list:\n",
    "        if actor.type_id.startswith(\"traffic.speed_limit\"):\n",
    "            traffic_sign_location = actor.get_location()\n",
    "            distance = location.distance(traffic_sign_location)\n",
    "            if distance < 10.0:\n",
    "                # Obtiene el waypoint del vehículo y de la señal de tráfico\n",
    "                vehicle_waypoint = world.get_map().get_waypoint(location)\n",
    "                sign_waypoint = world.get_map().get_waypoint(traffic_sign_location)\n",
    "                # Verifica si la señal de tráfico está en la misma carretera que el vehículo\n",
    "                if sign_waypoint.lane_id == 4:\n",
    "                    # Verifica si la señal de tráfico tiene información de velocidad límite\n",
    "                    match = re.search(r'traffic\\.speed_limit\\.(\\d+)', actor.type_id)\n",
    "                    numero = match.group(1) \n",
    "                    speed_limit_kph = int(numero)\n",
    "                    return speed_limit_kph\n",
    "    return 0"
   ]
  },
  {
   "cell_type": "markdown",
   "id": "39ab2074",
   "metadata": {},
   "source": [
    "### PARTE 7: CONDUCCIÓN\n",
    "Codigo principal con llamamiento a las funciones para que la conducción autonoma funcione."
   ]
  },
  {
   "cell_type": "code",
   "execution_count": 14,
   "id": "42906f70",
   "metadata": {},
   "outputs": [],
   "source": [
    "#Definir variables \n",
    "brake_intensity = 0.8\n",
    "i=0\n",
    "preferred_speed = 90\n",
    "speed_threshold = 2\n",
    "MAX_STEER_DEGREES = 20\n",
    "cv2.namedWindow('RGB Camera', cv2.WINDOW_AUTOSIZE)\n",
    "cv2.imshow('RGB Camera', camera_data['image'])\n",
    "quit=False\n",
    "\n",
    "while True:\n",
    "    #Cámara\n",
    "    world.tick()\n",
    "    if cv2.waitKey(1)==ord('q'): #si pulsamos la tecla q la pestaña desaparece\n",
    "        quit=True\n",
    "        break\n",
    "    image = camera_data['image']\n",
    "    \n",
    "    #Cambio de clima\n",
    "    i +=1\n",
    "    if i ==50:\n",
    "        i=0\n",
    "        weather()\n",
    "        \n",
    "    #Localización actual del vehículo\n",
    "    loc=vehicle.get_location()\n",
    "    current_w = map.get_waypoint(loc)\n",
    "    waypoint_separation = 5\n",
    "    next_w0 = list(current_w.next(waypoint_separation))[0]\n",
    "    next_w = map.get_waypoint(next_w0.transform.location,project_to_road=True, lane_type=(carla.LaneType.Driving))\n",
    "    \n",
    "    #Calculo de velocidad y angulo\n",
    "    velocity = vehicle.get_velocity()\n",
    "    speed = round(3.6 *math.sqrt(velocity.x**2+ velocity.y**2+velocity.z**2),0)\n",
    "    image=cv2.putText(image,'Speed: '+str(int(speed))+' km/h', (30,50),cv2.FONT_HERSHEY_SIMPLEX,0.5,(255,255,255),1,cv2.LINE_AA)\n",
    "    estimated_throttle = maintain_speed(speed,preferred_speed,speed_threshold)\n",
    "    predicted_angle = get_angle(vehicle,next_w)\n",
    "    steer_input=steer(predicted_angle,MAX_STEER_DEGREES)\n",
    "    sign=signs(vehicle, world)\n",
    "    if sign!=0:\n",
    "        preferred_speed=sign\n",
    "    light=is_traffic_light_red(vehicle, world)\n",
    "    freno(light,brake_intensity,vehicle,estimated_throttle,steer_input)\n",
    "\n",
    "    #Cámara\n",
    "    cv2.imshow('RGB Camera', image)\n",
    "cv2.destroyAllWindows()\n",
    "camera.stop()"
   ]
  },
  {
   "cell_type": "markdown",
   "id": "67567fb2",
   "metadata": {},
   "source": [
    "### PARTE 8: DESTRUIR\n",
    "Destrucción de los agentes utilizados."
   ]
  },
  {
   "cell_type": "code",
   "execution_count": 15,
   "id": "00786796",
   "metadata": {},
   "outputs": [],
   "source": [
    "for actor in world.get_actors().filter('*vehicle*'):\n",
    "    actor.destroy()\n",
    "for sensor in world.get_actors().filter('*sensor*'):\n",
    "    sensor.destroy()"
   ]
  }
 ],
 "metadata": {
  "kernelspec": {
   "display_name": "Python 3 (ipykernel)",
   "language": "python",
   "name": "python3"
  },
  "language_info": {
   "codemirror_mode": {
    "name": "ipython",
    "version": 3
   },
   "file_extension": ".py",
   "mimetype": "text/x-python",
   "name": "python",
   "nbconvert_exporter": "python",
   "pygments_lexer": "ipython3",
   "version": "3.7.16"
  }
 },
 "nbformat": 4,
 "nbformat_minor": 5
}

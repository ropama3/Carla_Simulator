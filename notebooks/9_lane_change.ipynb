{
 "cells": [
  {
   "cell_type": "markdown",
   "id": "8795c1e8",
   "metadata": {},
   "source": [
    "# LANE CHANGE\n",
    "María Rodríguez Palomo"
   ]
  },
  {
   "cell_type": "code",
   "execution_count": 1,
   "id": "eee82ab2",
   "metadata": {},
   "outputs": [],
   "source": [
    "import glob\n",
    "import os\n",
    "import sys\n",
    "import carla\n",
    "import argparse\n",
    "import random\n",
    "import time\n",
    "import math\n",
    "import numpy as np\n",
    "import cv2\n",
    "import keyboard as kb\n"
   ]
  },
  {
   "cell_type": "markdown",
   "id": "a83a5a40",
   "metadata": {},
   "source": [
    "#### CREATE WORLD"
   ]
  },
  {
   "cell_type": "code",
   "execution_count": 13,
   "id": "07a12527",
   "metadata": {},
   "outputs": [],
   "source": [
    "client = carla.Client('localhost', 2000)\n",
    "client.set_timeout(2000)\n",
    "#client.load_world(\"Town05\")\n",
    "world = client.get_world()\n",
    "map = world.get_map()"
   ]
  },
  {
   "cell_type": "markdown",
   "id": "925c242e",
   "metadata": {},
   "source": [
    "#### CHANGE VIEW"
   ]
  },
  {
   "cell_type": "code",
   "execution_count": 14,
   "id": "cd89e8ac",
   "metadata": {},
   "outputs": [],
   "source": [
    "loc2=carla.Transform(carla.Location(x=-200.229767, y=197.991257, z=11.914517), carla.Rotation(pitch=0.0, yaw=-100.194565, roll=0.006472))\n",
    "spectator = world.get_spectator() \n",
    "spectator_pos = carla.Transform(loc2.location + carla.Location(x=-5,y=-40,z=70),carla.Rotation(yaw=loc2.rotation.yaw+10,pitch=loc2.rotation.pitch-80))\n",
    "spectator.set_transform(spectator_pos)"
   ]
  },
  {
   "cell_type": "markdown",
   "id": "d4ad6a3d",
   "metadata": {},
   "source": [
    "#### CREATE VEHICLE"
   ]
  },
  {
   "cell_type": "code",
   "execution_count": 15,
   "id": "af821e6f",
   "metadata": {},
   "outputs": [],
   "source": [
    "loc2=carla.Transform(carla.Location(x=-174.557922, y=188.525208, z=13.138501), carla.Rotation(pitch=0.733207, yaw=-147.194565, roll=0.006472))\n",
    "blueprint_library = world.get_blueprint_library()\n",
    "bp = random.choice(blueprint_library.filter('vehicle.tesla.model3'))\n",
    "\n",
    "if bp.has_attribute('color'):\n",
    "    color = bp.get_attribute('color').recommended_values[2]\n",
    "    bp.set_attribute('color', '255,0,255')\n",
    "\n",
    "vehicle = world.spawn_actor(bp, loc2)"
   ]
  },
  {
   "cell_type": "markdown",
   "id": "53c5c64b",
   "metadata": {},
   "source": [
    "#### CONSTANT SPEED"
   ]
  },
  {
   "cell_type": "code",
   "execution_count": 16,
   "id": "9fe8763e",
   "metadata": {},
   "outputs": [],
   "source": [
    "def maintain_speed(s,preferred_speed,speed_threshold):\n",
    "    if s>=preferred_speed:\n",
    "        return 0\n",
    "    elif s < preferred_speed - speed_threshold:\n",
    "        return 0.8\n",
    "    else:\n",
    "        return 0.4"
   ]
  },
  {
   "cell_type": "markdown",
   "id": "8864c1b9",
   "metadata": {},
   "source": [
    "#### ANGLE"
   ]
  },
  {
   "cell_type": "code",
   "execution_count": 17,
   "id": "dd2dcdbc",
   "metadata": {},
   "outputs": [],
   "source": [
    "def angle_between(v1, v2):\n",
    "    return math.degrees(np.arctan2(v1[1], v1[0]) - np.arctan2(v2[1], v2[0]))\n",
    "\n",
    "def get_angle(car,wp):\n",
    "    vehicle_pos = car.get_transform()\n",
    "    car_x = vehicle_pos.location.x\n",
    "    car_y = vehicle_pos.location.y\n",
    "    wp_x = wp.transform.location.x\n",
    "    wp_y = wp.transform.location.y\n",
    "    \n",
    "    x = (wp_x - car_x)/((wp_y - car_y)**2 + (wp_x - car_x)**2)**0.5\n",
    "    y = (wp_y - car_y)/((wp_y - car_y)**2 + (wp_x - car_x)**2)**0.5\n",
    "    \n",
    "    car_vector = vehicle_pos.get_forward_vector()\n",
    "    degrees = angle_between((x,y),(car_vector.x,car_vector.y))\n",
    "    return degrees"
   ]
  },
  {
   "cell_type": "code",
   "execution_count": 19,
   "id": "fc28ac37",
   "metadata": {},
   "outputs": [],
   "source": [
    "def steer(predicted_angle,MAX_STEER_DEGREES):\n",
    "    if predicted_angle<-180:\n",
    "        predicted_angle = predicted_angle+360\n",
    "    elif predicted_angle > 180:\n",
    "        predicted_angle = predicted_angle-360\n",
    "    steer_input = predicted_angle\n",
    "    if predicted_angle<-MAX_STEER_DEGREES:\n",
    "        steer_input = -MAX_STEER_DEGREES\n",
    "    elif predicted_angle>MAX_STEER_DEGREES:\n",
    "        steer_input = MAX_STEER_DEGREES\n",
    "    steer_input = steer_input/75\n",
    "    return steer_input"
   ]
  },
  {
   "cell_type": "markdown",
   "id": "35edf481",
   "metadata": {},
   "source": [
    "#### DRIVING"
   ]
  },
  {
   "cell_type": "markdown",
   "id": "1d35d65f",
   "metadata": {},
   "source": [
    "Restart the kernel each time for better performance"
   ]
  },
  {
   "cell_type": "code",
   "execution_count": null,
   "id": "46131fde",
   "metadata": {},
   "outputs": [],
   "source": [
    "finalizar_der=1 \n",
    "finalizar_izq=1 \n",
    "a=True\n",
    "b=True\n",
    "preferred_speed = 30\n",
    "speed_threshold = 2\n",
    "MAX_STEER_DEGREES = 30\n",
    "\n",
    "while True:\n",
    "    loc=vehicle.get_location()\n",
    "    current_w = map.get_waypoint(loc)\n",
    "    \n",
    "    #Lane change\n",
    "    if kb.is_pressed(\"r\") or finalizar_der==0: #If we press the key and haven't changed lanes yet\n",
    "        finalizar_der=0\n",
    "        if kb.is_pressed(\"r\") and a:#If we press the key, we only want it to trigger once\n",
    "            lane = current_w.lane_id+1\n",
    "            a=False\n",
    "        if lane == 5: #If we can't go further to the right anymore\n",
    "            print(\"No se puede ir más a la derecha\")\n",
    "            finalizar_der=1\n",
    "            a=True\n",
    "        if current_w.lane_id !=lane: #If we are not yet in the lane we want\n",
    "            next_w0 = map.get_waypoint_xodr(road_id=next_w.road_id,lane_id=next_w.lane_id+1,s=next_w.s)\n",
    "            next_w = map.get_waypoint(next_w0.transform.location,project_to_road=True, lane_type=(carla.LaneType.Driving))\n",
    "        else:#If we are already in the lane\n",
    "            print(\"Hemos llegado al carril\")\n",
    "            finalizar_der=1\n",
    "            a=True\n",
    "            \n",
    "    elif kb.is_pressed(\"l\") or finalizar_izq==0: \n",
    "        finalizar_izq=0\n",
    "        if kb.is_pressed(\"l\") and b:\n",
    "            lane = current_w.lane_id-1\n",
    "            b=False\n",
    "        if lane == 1: \n",
    "            print(\"No se puede ir más a la izquierda\")\n",
    "            finalizar_izq=1\n",
    "            b=True\n",
    "        if current_w.lane_id !=lane: \n",
    "            next_w0 = map.get_waypoint_xodr(road_id=next_w.road_id,lane_id=next_w.lane_id-1,s=next_w.s)\n",
    "            next_w = map.get_waypoint(next_w0.transform.location,project_to_road=True, lane_type=(carla.LaneType.Driving))\n",
    "        else:\n",
    "            print(\"Hemos llegado al carril\")\n",
    "            finalizar_izq=1\n",
    "            b=True\n",
    "            \n",
    "    else:\n",
    "        waypoint_separation = 3\n",
    "        next_w0 = list(current_w.next(waypoint_separation))[0]\n",
    "        next_w = map.get_waypoint(next_w0.transform.location,project_to_road=True, lane_type=(carla.LaneType.Driving))\n",
    "    \n",
    "    velocity = vehicle.get_velocity()\n",
    "    speed = round(3.6 *math.sqrt(velocity.x**2+ velocity.y**2+velocity.z**2),0)\n",
    "    estimated_throttle = maintain_speed(speed,preferred_speed,speed_threshold)\n",
    "    predicted_angle = get_angle(vehicle,next_w)\n",
    "    steer_input=steer(predicted_angle,MAX_STEER_DEGREES)\n",
    "    if steer_input > 0.05:\n",
    "        estimated_throttle=0\n",
    "    vehicle.apply_control(carla.VehicleControl(throttle= estimated_throttle, steer=steer_input))\n",
    "    "
   ]
  },
  {
   "cell_type": "markdown",
   "id": "f9eea38d",
   "metadata": {},
   "source": [
    "#### DESTROY"
   ]
  },
  {
   "cell_type": "code",
   "execution_count": 22,
   "id": "18c6e608",
   "metadata": {},
   "outputs": [],
   "source": [
    "for actor in world.get_actors().filter('*vehicle*'):\n",
    "    actor.destroy()\n",
    "for sensor in world.get_actors().filter('*sensor*'):\n",
    "    sensor.destroy()"
   ]
  }
 ],
 "metadata": {
  "kernelspec": {
   "display_name": "Python 3 (ipykernel)",
   "language": "python",
   "name": "python3"
  },
  "language_info": {
   "codemirror_mode": {
    "name": "ipython",
    "version": 3
   },
   "file_extension": ".py",
   "mimetype": "text/x-python",
   "name": "python",
   "nbconvert_exporter": "python",
   "pygments_lexer": "ipython3",
   "version": "3.7.2"
  }
 },
 "nbformat": 4,
 "nbformat_minor": 5
}

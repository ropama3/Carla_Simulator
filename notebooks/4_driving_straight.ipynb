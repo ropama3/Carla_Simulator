{
 "cells": [
  {
   "cell_type": "markdown",
   "id": "7bac6db8",
   "metadata": {},
   "source": [
    "# DRIVING STRAIGHT\n",
    "María Rodríguez Palomo"
   ]
  },
  {
   "cell_type": "markdown",
   "id": "fbba1758",
   "metadata": {},
   "source": [
    "#### LIBRARIES"
   ]
  },
  {
   "cell_type": "code",
   "execution_count": 1,
   "id": "6faf3897",
   "metadata": {},
   "outputs": [],
   "source": [
    "import glob\n",
    "import os\n",
    "import sys\n",
    "import sys\n",
    "import carla\n",
    "import numpy as np\n",
    "import random\n",
    "import time\n",
    "import cv2\n",
    "import math"
   ]
  },
  {
   "cell_type": "markdown",
   "id": "f2ea233f",
   "metadata": {},
   "source": [
    "#### VEHICLE CREATION"
   ]
  },
  {
   "cell_type": "code",
   "execution_count": 4,
   "id": "7264e9d4",
   "metadata": {},
   "outputs": [],
   "source": [
    "client = carla.Client('localhost', 2000)\n",
    "client.set_timeout(2000)\n",
    "# We will use the world that is created by default\n",
    "world = client.get_world()\n",
    "blueprint_library = world.get_blueprint_library()\n",
    "bp = random.choice(blueprint_library.filter('*mini*'))\n",
    "\n",
    "if bp.has_attribute('color'):\n",
    "    color = bp.get_attribute('color').recommended_values[2]\n",
    "    bp.set_attribute('color', '255,0,255')\n",
    "        \n",
    "start_point = world.get_map().get_spawn_points()[0]\n",
    "vehicle = world.spawn_actor(bp, start_point)"
   ]
  },
  {
   "cell_type": "markdown",
   "id": "7a3e1c0d",
   "metadata": {},
   "source": [
    "#### SENSOR CAMERA CREATION"
   ]
  },
  {
   "cell_type": "code",
   "execution_count": 5,
   "id": "92ebe67a",
   "metadata": {},
   "outputs": [],
   "source": [
    "CAMERA_POS_Z = 3\n",
    "CAMERA_POS_X = -5\n",
    "camera_bp=world.get_blueprint_library().find('sensor.camera.rgb')\n",
    "camera_bp.set_attribute('image_size_x','640')\n",
    "camera_bp.set_attribute('image_size_y','360')\n",
    "camera_init_trans= carla.Transform(carla.Location(z=CAMERA_POS_Z,x=CAMERA_POS_X))\n",
    "camera=world.spawn_actor(camera_bp,camera_init_trans,attach_to=vehicle)\n",
    "\n",
    "def camera_callback(image,data):\n",
    "    data['image']=np.reshape(np.copy(image.raw_data),(image.height,image.width,4))\n",
    "    \n",
    "image_w= camera_bp.get_attribute('image_size_x').as_int()\n",
    "image_h= camera_bp.get_attribute('image_size_y').as_int()\n",
    "camera_data = {'image':np.zeros((image_h,image_w,4))}\n",
    "camera.listen(lambda image: camera_callback(image,camera_data))"
   ]
  },
  {
   "cell_type": "markdown",
   "id": "56e09a9b",
   "metadata": {},
   "source": [
    "#### MAINTAINING A CONSTANT SPEED"
   ]
  },
  {
   "cell_type": "code",
   "execution_count": 6,
   "id": "e04e79c9",
   "metadata": {},
   "outputs": [],
   "source": [
    "def maintain_speed(s,preferred_speed,speed_threshold):\n",
    "    #Return is the acceleration\n",
    "    if s>=preferred_speed:\n",
    "        return 0\n",
    "    elif s < preferred_speed - speed_threshold:\n",
    "        return 0.8\n",
    "    else:\n",
    "        return 0.4"
   ]
  },
  {
   "cell_type": "markdown",
   "id": "47355524",
   "metadata": {},
   "source": [
    "#### DEVELOPER VIEW TAB"
   ]
  },
  {
   "cell_type": "code",
   "execution_count": null,
   "id": "a873eb7b",
   "metadata": {},
   "outputs": [],
   "source": [
    "preferred_speed = 20\n",
    "speed_threshold = 2\n",
    "steering_angle = 0\n",
    "\n",
    "#Camera\n",
    "cv2.namedWindow('RGB Camera', cv2.WINDOW_AUTOSIZE)\n",
    "cv2.imshow('RGB Camera', camera_data['image'])\n",
    "quit=False\n",
    "\n",
    "while True:\n",
    "    #Camera\n",
    "    world.tick()\n",
    "    if cv2.waitKey(1)==ord('q'): #If we press the q key, the tab disappears\n",
    "        quit=True\n",
    "        break\n",
    "    image = camera_data['image']\n",
    "    \n",
    "    velocity = vehicle.get_velocity()\n",
    "    speed = round(3.6 *math.sqrt(velocity.x**2+ velocity.y**2+velocity.z**2),0)\n",
    "    image=cv2.putText(image,'Speed: '+str(int(speed))+' km/h', (30,50),cv2.FONT_HERSHEY_SIMPLEX,0.5,(255,255,255),1,cv2.LINE_AA)\n",
    "    estimated_throttle = maintain_speed(speed,preferred_speed,speed_threshold)\n",
    "    vehicle.apply_control(carla.VehicleControl(throttle= estimated_throttle, steer=steering_angle))\n",
    "    cv2.imshow('RGB Camera', image)\n",
    "cv2.destroyAllWindows()\n",
    "camera.stop() "
   ]
  },
  {
   "cell_type": "markdown",
   "id": "011f3bae",
   "metadata": {},
   "source": [
    "#### DESTROY"
   ]
  },
  {
   "cell_type": "code",
   "execution_count": 3,
   "id": "66a4162c",
   "metadata": {},
   "outputs": [],
   "source": [
    "for actor in world.get_actors().filter('*vehicle*'):\n",
    "    actor.destroy()\n",
    "for sensor in world.get_actors().filter('*sensor*'):\n",
    "    sensor.destroy()"
   ]
  }
 ],
 "metadata": {
  "kernelspec": {
   "display_name": "Python 3 (ipykernel)",
   "language": "python",
   "name": "python3"
  },
  "language_info": {
   "codemirror_mode": {
    "name": "ipython",
    "version": 3
   },
   "file_extension": ".py",
   "mimetype": "text/x-python",
   "name": "python",
   "nbconvert_exporter": "python",
   "pygments_lexer": "ipython3",
   "version": "3.7.2"
  }
 },
 "nbformat": 4,
 "nbformat_minor": 5
}

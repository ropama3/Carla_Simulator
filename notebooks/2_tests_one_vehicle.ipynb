{
 "cells": [
  {
   "cell_type": "markdown",
   "id": "88ceb4ee",
   "metadata": {},
   "source": [
    "# TESTS WITH A VEHICLE\n",
    "María Rodríguez Palomo"
   ]
  },
  {
   "cell_type": "markdown",
   "id": "0918d84e",
   "metadata": {},
   "source": [
    "Libraries"
   ]
  },
  {
   "cell_type": "code",
   "execution_count": 1,
   "id": "5671f804",
   "metadata": {},
   "outputs": [],
   "source": [
    "import glob\n",
    "import os\n",
    "import sys\n",
    "import carla\n",
    "import random\n",
    "import time"
   ]
  },
  {
   "cell_type": "markdown",
   "id": "a2f519d9",
   "metadata": {},
   "source": [
    "#### Car"
   ]
  },
  {
   "cell_type": "markdown",
   "id": "b3edcafe",
   "metadata": {},
   "source": [
    "Creating the world"
   ]
  },
  {
   "cell_type": "code",
   "execution_count": 2,
   "id": "2bb64d15",
   "metadata": {},
   "outputs": [],
   "source": [
    "client = carla.Client('localhost', 2000)\n",
    "client.set_timeout(2000)\n",
    "#Usaremos el mapa que se carga por defecto al abrir carla\n",
    "world = client.get_world()"
   ]
  },
  {
   "cell_type": "markdown",
   "id": "4b674314",
   "metadata": {},
   "source": [
    "Creating the car"
   ]
  },
  {
   "cell_type": "code",
   "execution_count": 3,
   "id": "429dd954",
   "metadata": {},
   "outputs": [],
   "source": [
    "blueprint_library = world.get_blueprint_library()\n",
    "bp = random.choice(blueprint_library.filter('vehicle.tesla.model3'))\n",
    "\n",
    "if bp.has_attribute('color'):\n",
    "    color = bp.get_attribute('color').recommended_values[2]\n",
    "    bp.set_attribute('color', '255,0,255')\n",
    "        \n",
    "start_point = world.get_map().get_spawn_points()[0]\n",
    "vehicle = world.spawn_actor(bp, start_point)"
   ]
  },
  {
   "cell_type": "markdown",
   "id": "ceaf360c",
   "metadata": {},
   "source": [
    "#### VEHICLE COLORS"
   ]
  },
  {
   "cell_type": "markdown",
   "id": "2759c12b",
   "metadata": {},
   "source": [
    "Let's see the available colors"
   ]
  },
  {
   "cell_type": "code",
   "execution_count": 4,
   "id": "8e2cf5b0",
   "metadata": {},
   "outputs": [
    {
     "name": "stdout",
     "output_type": "stream",
     "text": [
      "['17,37,103', '75,86,173', '180,42,42', '0,0,0', '137,0,0']\n"
     ]
    }
   ],
   "source": [
    "if bp.has_attribute('color'):\n",
    "    print(bp.get_attribute('color').recommended_values)"
   ]
  },
  {
   "cell_type": "markdown",
   "id": "a8aa2e0c",
   "metadata": {},
   "source": [
    "The first color is dark blue, the second light blue, the third maroon, the fourth black, and the fifth dark maroon. Let's choose the third."
   ]
  },
  {
   "cell_type": "markdown",
   "id": "0baa6bf2",
   "metadata": {},
   "source": [
    "#### POSITION"
   ]
  },
  {
   "cell_type": "code",
   "execution_count": 5,
   "id": "846d189d",
   "metadata": {},
   "outputs": [
    {
     "name": "stdout",
     "output_type": "stream",
     "text": [
      "La posición actual del vehículo es Transform(Location(x=-64.644844, y=24.471010, z=0.001132), Rotation(pitch=0.000000, yaw=0.159198, roll=0.000000))\n"
     ]
    }
   ],
   "source": [
    "#Vehicle position.\n",
    "vehicle_position=vehicle.get_transform()\n",
    "print(\"The current position of the vehicle is\", vehicle_position)"
   ]
  },
  {
   "cell_type": "code",
   "execution_count": 6,
   "id": "1d3c7d9e",
   "metadata": {},
   "outputs": [
    {
     "name": "stdout",
     "output_type": "stream",
     "text": [
      "La posición inicial del vehículo es Transform(Location(x=-64.644844, y=24.471010, z=0.600000), Rotation(pitch=0.000000, yaw=0.159198, roll=0.000000))\n"
     ]
    }
   ],
   "source": [
    "#Initial position\n",
    "print(\"The initial position of the vehicle is\",start_point)"
   ]
  },
  {
   "cell_type": "markdown",
   "id": "5ecb56d9",
   "metadata": {},
   "source": [
    "The position remains unchanged because the vehicle has not moved."
   ]
  },
  {
   "cell_type": "markdown",
   "id": "65cea9b3",
   "metadata": {},
   "source": [
    "#### AUTOPILOT"
   ]
  },
  {
   "cell_type": "code",
   "execution_count": 7,
   "id": "22ee7a26",
   "metadata": {},
   "outputs": [],
   "source": [
    "vehicle.set_autopilot(True)"
   ]
  },
  {
   "cell_type": "code",
   "execution_count": 8,
   "id": "45f364cb",
   "metadata": {},
   "outputs": [
    {
     "name": "stdout",
     "output_type": "stream",
     "text": [
      "Posición actual Transform(Location(x=-49.119392, y=18.999262, z=0.002201), Rotation(pitch=-0.060755, yaw=-35.829651, roll=0.274099))\n"
     ]
    }
   ],
   "source": [
    "vehicle_position=vehicle.get_transform()\n",
    "print(\"Actual position\",vehicle_position)"
   ]
  },
  {
   "cell_type": "markdown",
   "id": "4a06f1e6",
   "metadata": {},
   "source": [
    "The position changes because the vehicle has moved when activating the autopilot"
   ]
  },
  {
   "cell_type": "markdown",
   "id": "ec41e297",
   "metadata": {},
   "source": [
    "#### DESTROY"
   ]
  },
  {
   "cell_type": "code",
   "execution_count": 9,
   "id": "9b71732a",
   "metadata": {},
   "outputs": [],
   "source": [
    "for actor in world.get_actors().filter('*vehicle*'):\n",
    "    actor.destroy()\n",
    "for sensor in world.get_actors().filter('*sensor*'):\n",
    "    sensor.destroy()"
   ]
  }
 ],
 "metadata": {
  "kernelspec": {
   "display_name": "Python 3 (ipykernel)",
   "language": "python",
   "name": "python3"
  },
  "language_info": {
   "codemirror_mode": {
    "name": "ipython",
    "version": 3
   },
   "file_extension": ".py",
   "mimetype": "text/x-python",
   "name": "python",
   "nbconvert_exporter": "python",
   "pygments_lexer": "ipython3",
   "version": "3.7.2"
  }
 },
 "nbformat": 4,
 "nbformat_minor": 5
}

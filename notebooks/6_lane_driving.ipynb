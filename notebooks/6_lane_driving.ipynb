{
 "cells": [
  {
   "cell_type": "markdown",
   "id": "8795c1e8",
   "metadata": {},
   "source": [
    "# LANE DRIVING\n",
    "María Rodríguez Palomo"
   ]
  },
  {
   "cell_type": "code",
   "execution_count": 1,
   "id": "eee82ab2",
   "metadata": {},
   "outputs": [],
   "source": [
    "import glob\n",
    "import os\n",
    "import sys\n",
    "import carla\n",
    "import argparse\n",
    "import random\n",
    "import time\n",
    "import math\n",
    "import numpy as np\n",
    "import cv2"
   ]
  },
  {
   "cell_type": "markdown",
   "id": "a83a5a40",
   "metadata": {},
   "source": [
    "#### VEHICLE CREATION"
   ]
  },
  {
   "cell_type": "code",
   "execution_count": 2,
   "id": "07a12527",
   "metadata": {},
   "outputs": [],
   "source": [
    "client = carla.Client('localhost', 2000)\n",
    "client.set_timeout(2000)\n",
    "client.load_world(\"Town05\")\n",
    "world = client.get_world()\n",
    "m = world.get_map()"
   ]
  },
  {
   "cell_type": "code",
   "execution_count": 3,
   "id": "af821e6f",
   "metadata": {},
   "outputs": [],
   "source": [
    "loc2=carla.Transform(carla.Location(x=-174.557922, y=185.525208, z=13.138501), carla.Rotation(pitch=0.733207, yaw=-147.194565, roll=0.006472))\n",
    "blueprint_library = world.get_blueprint_library()\n",
    "bp = random.choice(blueprint_library.filter('vehicle.tesla.model3'))\n",
    "\n",
    "if bp.has_attribute('color'):\n",
    "    color = bp.get_attribute('color').recommended_values[2]\n",
    "    bp.set_attribute('color', '255,0,255')\n",
    "\n",
    "vehicle = world.spawn_actor(bp, loc2)"
   ]
  },
  {
   "cell_type": "markdown",
   "id": "925c242e",
   "metadata": {},
   "source": [
    "#### VIEW CHANGE"
   ]
  },
  {
   "cell_type": "code",
   "execution_count": 4,
   "id": "cd89e8ac",
   "metadata": {},
   "outputs": [],
   "source": [
    "spectator = world.get_spectator()\n",
    "spectator_pos = carla.Transform(loc2.location + carla.Location(x=10,y=10,z=4),carla.Rotation(yaw=loc2.rotation.yaw))\n",
    "spectator.set_transform(spectator_pos)"
   ]
  },
  {
   "cell_type": "markdown",
   "id": "53c5c64b",
   "metadata": {},
   "source": [
    "#### CONSTANT SPEED"
   ]
  },
  {
   "cell_type": "code",
   "execution_count": 5,
   "id": "9fe8763e",
   "metadata": {},
   "outputs": [],
   "source": [
    "preferred_speed = 90\n",
    "speed_threshold = 2\n",
    "\n",
    "def maintain_speed(s):\n",
    "    #The return is the acceleration\n",
    "    if s>=preferred_speed:\n",
    "        return 0\n",
    "    elif s < preferred_speed - speed_threshold:\n",
    "        return 0.8\n",
    "    else:\n",
    "        return 0.4"
   ]
  },
  {
   "cell_type": "markdown",
   "id": "8864c1b9",
   "metadata": {},
   "source": [
    "#### ANGLE"
   ]
  },
  {
   "cell_type": "code",
   "execution_count": 6,
   "id": "dd2dcdbc",
   "metadata": {},
   "outputs": [],
   "source": [
    "#function to subtract 2 vectors\n",
    "def angle_between(v1, v2):\n",
    "    return math.degrees(np.arctan2(v1[1], v1[0]) - np.arctan2(v2[1], v2[0]))\n",
    "\n",
    "# function to get angle between the car and target waypoint\n",
    "def get_angle(car,wp):\n",
    "    '''\n",
    "    this function to find direction to selected waypoint\n",
    "    '''\n",
    "    vehicle_pos = car.get_transform()\n",
    "    car_x = vehicle_pos.location.x\n",
    "    car_y = vehicle_pos.location.y\n",
    "    wp_x = wp.transform.location.x\n",
    "    wp_y = wp.transform.location.y\n",
    "    \n",
    "    # vector to waypoint\n",
    "    x = (wp_x - car_x)/((wp_y - car_y)**2 + (wp_x - car_x)**2)**0.5\n",
    "    y = (wp_y - car_y)/((wp_y - car_y)**2 + (wp_x - car_x)**2)**0.5\n",
    "    \n",
    "    #car vector\n",
    "    car_vector = vehicle_pos.get_forward_vector()\n",
    "    degrees = angle_between((x,y),(car_vector.x,car_vector.y))\n",
    "    return degrees"
   ]
  },
  {
   "cell_type": "markdown",
   "id": "5f737730",
   "metadata": {},
   "source": [
    "#### DEVELOPER VIEW"
   ]
  },
  {
   "cell_type": "code",
   "execution_count": 7,
   "id": "8352632e",
   "metadata": {},
   "outputs": [],
   "source": [
    "def camera_callback(image,data_dict):\n",
    "    data_dict['image'] = np.reshape(np.copy(image.raw_data),(image.height,image.width,4))"
   ]
  },
  {
   "cell_type": "code",
   "execution_count": 8,
   "id": "b74dba61",
   "metadata": {},
   "outputs": [],
   "source": [
    "CAMERA_POS_Z = 3\n",
    "CAMERA_POS_X = -5\n",
    "camera_bp=world.get_blueprint_library().find('sensor.camera.rgb')\n",
    "camera_bp.set_attribute('image_size_x','640')\n",
    "camera_bp.set_attribute('image_size_y','360')\n",
    "camera_init_trans= carla.Transform(carla.Location(z=CAMERA_POS_Z,x=CAMERA_POS_X))\n",
    "camera=world.spawn_actor(camera_bp,camera_init_trans,attach_to=vehicle)\n",
    "image_w= camera_bp.get_attribute('image_size_x').as_int()\n",
    "image_h= camera_bp.get_attribute('image_size_y').as_int()\n",
    "camera_data = {'image':np.zeros((image_h,image_w,4))}\n",
    "camera.listen(lambda image: camera_callback(image,camera_data))"
   ]
  },
  {
   "cell_type": "markdown",
   "id": "35edf481",
   "metadata": {},
   "source": [
    "#### DRIVING"
   ]
  },
  {
   "cell_type": "code",
   "execution_count": 9,
   "id": "8d785e41",
   "metadata": {},
   "outputs": [],
   "source": [
    "font=cv2.FONT_HERSHEY_SIMPLEX\n",
    "org2=(30,50)\n",
    "fontScale=0.5\n",
    "color=(255,255,255)\n",
    "thickness=1\n",
    "cv2.namedWindow('RGB Camera', cv2.WINDOW_AUTOSIZE)\n",
    "cv2.imshow('RGB Camera', camera_data['image'])\n",
    "quit=False\n",
    "\n",
    "while True:\n",
    "    #Camera\n",
    "    world.tick()\n",
    "    if cv2.waitKey(1)==ord('q'): #If we press the q key, the tab disappears\n",
    "        quit=True\n",
    "        break\n",
    "    image = camera_data['image']\n",
    "    waypoint_separation = 5\n",
    "    loc=vehicle.get_location()\n",
    "    current_w = m.get_waypoint(loc)\n",
    "    map = world.get_map()\n",
    "    next_w0 = list(current_w.next(waypoint_separation))[0]\n",
    "    next_w = map.get_waypoint(next_w0.transform.location,project_to_road=True, lane_type=(carla.LaneType.Driving))\n",
    "    x=vehicle.get_transform().location.x\n",
    "    y=vehicle.get_transform().location.y\n",
    "    MAX_STEER_DEGREES = 7\n",
    "    velocity = vehicle.get_velocity()\n",
    "    speed = round(3.6 *math.sqrt(velocity.x**2+ velocity.y**2+velocity.z**2),0)\n",
    "    image=cv2.putText(image,'Speed: '+str(int(speed))+' km/h', org2,font,fontScale,color,thickness,cv2.LINE_AA)\n",
    "    estimated_throttle = maintain_speed(speed)\n",
    "    predicted_angle = get_angle(vehicle,next_w)\n",
    "    \n",
    "    # extra checks on predicted angle when values close to 360 degrees are returned\n",
    "    if predicted_angle<-180:\n",
    "        predicted_angle = predicted_angle+360\n",
    "    elif predicted_angle > 180:\n",
    "        predicted_angle = predicted_angle-360\n",
    "    steer_input = predicted_angle\n",
    "    if predicted_angle<-MAX_STEER_DEGREES:\n",
    "        steer_input = -MAX_STEER_DEGREES\n",
    "    elif predicted_angle>MAX_STEER_DEGREES:\n",
    "        steer_input = MAX_STEER_DEGREES\n",
    "    steer_input = steer_input/75\n",
    "    if steer_input > 0.05:\n",
    "        estimated_throttle=0\n",
    "    vehicle.apply_control(carla.VehicleControl(throttle= estimated_throttle, steer=steer_input))\n",
    "    cv2.imshow('RGB Camera', image)\n",
    "cv2.destroyAllWindows()\n",
    "camera.stop()"
   ]
  },
  {
   "cell_type": "markdown",
   "id": "26227578",
   "metadata": {},
   "source": [
    "#### DESTROY"
   ]
  },
  {
   "cell_type": "code",
   "execution_count": 10,
   "id": "c2441a4b",
   "metadata": {},
   "outputs": [],
   "source": [
    "for actor in world.get_actors().filter('*vehicle*'):\n",
    "    actor.destroy()\n",
    "for sensor in world.get_actors().filter('*sensor*'):\n",
    "    sensor.destroy()"
   ]
  },
  {
   "cell_type": "code",
   "execution_count": null,
   "id": "7159492f",
   "metadata": {},
   "outputs": [],
   "source": []
  }
 ],
 "metadata": {
  "kernelspec": {
   "display_name": "Python 3 (ipykernel)",
   "language": "python",
   "name": "python3"
  },
  "language_info": {
   "codemirror_mode": {
    "name": "ipython",
    "version": 3
   },
   "file_extension": ".py",
   "mimetype": "text/x-python",
   "name": "python",
   "nbconvert_exporter": "python",
   "pygments_lexer": "ipython3",
   "version": "3.7.2"
  }
 },
 "nbformat": 4,
 "nbformat_minor": 5
}

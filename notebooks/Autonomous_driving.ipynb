{
 "cells": [
  {
   "cell_type": "markdown",
   "id": "f04b3aff",
   "metadata": {},
   "source": [
    "# AUTONOMOUS DRIVING\n",
    "María Rodríguez Palomo"
   ]
  },
  {
   "cell_type": "markdown",
   "id": "f311c95c",
   "metadata": {},
   "source": [
    "In this script, we will see how we can create the code for autonomous driving of a vehicle in Carla Simulator.\n",
    "To do this, we will make the car drive along the lane where we place it. We will also detect traffic lights and signs. Additionally, we will simulate a weather change in the simulator."
   ]
  },
  {
   "cell_type": "markdown",
   "id": "fd528941",
   "metadata": {},
   "source": [
    "### PART 0: IMPORT NECESSARY LIBRARIES"
   ]
  },
  {
   "cell_type": "code",
   "execution_count": 1,
   "id": "4848bb0e",
   "metadata": {},
   "outputs": [],
   "source": [
    "import carla \n",
    "import cv2 \n",
    "import numpy as np \n",
    "from matplotlib import pyplot as plt \n",
    "import time\n",
    "import random\n",
    "import math\n",
    "import glob\n",
    "import os\n",
    "import sys\n",
    "import argparse\n",
    "import keyboard as kb\n",
    "import re\n",
    "import tkinter as tk\n",
    "from tkinter import ttk\n",
    "import webbrowser"
   ]
  },
  {
   "cell_type": "markdown",
   "id": "24974d2b",
   "metadata": {},
   "source": [
    "### PART 1: SELECTION OF VALUES IN THE APP"
   ]
  },
  {
   "cell_type": "markdown",
   "id": "59302319",
   "metadata": {},
   "source": [
    "We create an app to select the desired values in our simulator."
   ]
  },
  {
   "cell_type": "code",
   "execution_count": 30,
   "id": "e283ad95",
   "metadata": {},
   "outputs": [],
   "source": [
    "selected_color = '255,0,255'\n",
    "selected_weather = [0, 0, 50, 0, 0, 0]\n",
    "selected_algorithm = None\n",
    "selected_model = 'vehicle.tesla.model3'\n",
    "\n",
    "def on_algorithm_selected():\n",
    "    global selected_algorithm\n",
    "    selected_algorithm = alignment_var.get()\n",
    "\n",
    "def select_color(color):\n",
    "    global selected_color\n",
    "    color_button.config(text=color)\n",
    "    color_canvas.configure(background=color)\n",
    "    if color in [\"Red\", \"Green\", \"Blue\", \"Yellow\", \"Orange\", \"Purple\"]:\n",
    "        selected_color = color_name_to_rgb(color)\n",
    "\n",
    "def color_name_to_rgb(color_name):\n",
    "    colors = {\n",
    "        \"Red\": '255, 0, 0',\n",
    "        \"Green\": '0, 255, 0',\n",
    "        \"Blue\": '0, 0, 255',\n",
    "        \"Yellow\": '255, 255, 0',\n",
    "        \"Orange\": '255, 165, 0',\n",
    "        \"Purple\": '128, 0, 128'\n",
    "    }\n",
    "    return colors.get(color_name, '255,0,255')\n",
    "\n",
    "def select_weather(value):\n",
    "    global selected_weather\n",
    "    selected_weather = [slider1.get(), slider2.get(), slider3.get(), slider4.get(), slider5.get(), slider6.get()]\n",
    "\n",
    "def model():\n",
    "    global selected_model\n",
    "    model = alignment_var_model.get()\n",
    "    if model in ['Tesla', 'Mini', 'Audi', 'Dodge']:\n",
    "        selected_model = carla_models(model)\n",
    "\n",
    "def carla_models(model):\n",
    "    models = {\n",
    "        \"Tesla\": 'vehicle.tesla.model3',\n",
    "        \"Mini\": 'vehicle.mini.cooper_s',\n",
    "        \"Audi\": 'vehicle.audi.etron',\n",
    "        \"Dodge\": 'vehicle.dodge.charger_2020'\n",
    "    }\n",
    "    return models.get(model, 'vehicle.tesla.model3')\n",
    "\n",
    "def open_link(event):\n",
    "    webbrowser.open(\"https://github.com/ropama3/Carla_Simulator\")\n",
    "\n",
    "# GUI Configuration\n",
    "root = tk.Tk()\n",
    "root.title('Window for Carla Simulator App')\n",
    "root.geometry('500x600+50+50')\n",
    "root.iconbitmap('Images/carla.ico')\n",
    "root.configure(bg='#cfe2ff')\n",
    "\n",
    "# Style Configuration\n",
    "style = ttk.Style()\n",
    "style.configure('TLabel', font=('Century Gothic', 10), foreground='#1f1f1f', background='#cfe2ff')\n",
    "style.configure('TRadiobutton', font=('Century Gothic', 10), foreground='#1f1f1f', background='#cfe2ff')\n",
    "style.configure('TNotebook', tabposition='wn', tabmargins=(2, 2, 0, 0), background='#cfe2ff')\n",
    "style.map('TNotebook.Tab', background=[('selected', 'red')], foreground=[('selected', '#1f1f1f')])\n",
    "\n",
    "# Creating a notebook\n",
    "notebook = ttk.Notebook(root, style='TNotebook')  # Estilo del Notebook\n",
    "notebook.pack(pady=10, expand=True)\n",
    "\n",
    "# Creating a tab \"General Information\"\n",
    "general_info_tab = ttk.Frame(notebook, style=\"TLabel\", width=400, height=280)\n",
    "notebook.add(general_info_tab, text=\"Abstract\")\n",
    "\n",
    "# Creating a text box in the \"General Information\" tab\n",
    "info_text = tk.Text(general_info_tab, wrap=\"word\", width=70, height=20, font=('Century Gothic', 9), foreground='#1f1f1f', background='#cfe2ff')\n",
    "info_text.insert(\"1.0\", \"This is an application where we can specify the preferences of our simulator in Carla Simulator. This application connects with scripts that provide autonomy to the car, allowing us to modify certain aspects.\\nInstructions: Select each of the aspects and then close the tab.\\n\\nFor more information about the complete Final Degree Project (TFG), as this is only a part of it, please visit \")\n",
    "info_text.tag_configure(\"link\", foreground=\"blue\")\n",
    "info_text.tag_bind(\"link\", \"<Button-1>\", open_link)\n",
    "\n",
    "# Adding the link\n",
    "info_text.insert(\"end\", \"www.github.com\", \"link\")\n",
    "info_text.config(state=\"disabled\")\n",
    "info_text.grid(column=0, row=0, padx=20, pady=20)\n",
    "\n",
    "# Setting up the expansion of the \"General Information\" tab\n",
    "general_info_tab.columnconfigure(0, weight=1)\n",
    "general_info_tab.rowconfigure(0, weight=1)\n",
    "\n",
    "# Creating a tab \"Profile\"\n",
    "profile_tab = ttk.Frame(notebook, style=\"TLabel\", width=400, height=500)\n",
    "notebook.add(profile_tab, text=\"Options\")\n",
    "\n",
    "# Creating a Canvas to display the selected color\n",
    "color_canvas = tk.Canvas(profile_tab, width=20, height=20, background=\"white\", bd=1, relief=\"solid\")\n",
    "color_canvas.place(x=150, y=50)\n",
    "\n",
    "# Creating a Label for the color with a space before\n",
    "color_title_label = ttk.Label(profile_tab, text=\"➢ Choose car color\", style='TLabel')\n",
    "color_title_label.place(x=10, y=20)\n",
    "\n",
    "# Creating a Menubutton to select the color in the \"Profile\" tab\n",
    "color_button = ttk.Menubutton(profile_tab, text=\"color\", direction=\"below\", style='TButton')\n",
    "color_button.place(x=30, y=50)\n",
    "color_menu = tk.Menu(color_button, tearoff=False)\n",
    "color_button[\"menu\"] = color_menu\n",
    "\n",
    "# Adding color options to the menu\n",
    "colors = [\"Red\", \"Green\", \"Blue\", \"Yellow\", \"Orange\", \"Purple\"]\n",
    "for color in colors:\n",
    "    color_menu.add_command(label=color, command=lambda c=color: select_color(c))\n",
    "\n",
    "# Creating a Label for the title \"Weather\" with a space before\n",
    "weather_title_label = ttk.Label(profile_tab, text=\"➢ Choose weather\", style='TLabel')\n",
    "weather_title_label.place(x=10, y=100)\n",
    "\n",
    "# Creating sliders to select the weather in the \"Profile\" tab\n",
    "slider1_label = ttk.Label(profile_tab, text='Cloudiness:', font=('Century Gothic', 8), style='TLabel')\n",
    "slider1_label.place(x=30, y=130)\n",
    "slider1 = ttk.Scale(profile_tab, from_=0, to=100, orient=tk.HORIZONTAL, command=lambda value: select_weather(value))\n",
    "slider1.place(x=180, y=130)\n",
    "\n",
    "slider2_label = ttk.Label(profile_tab, text='Precipitation:', font=('Century Gothic', 8), style='TLabel')\n",
    "slider2_label.place(x=30, y=160)\n",
    "slider2 = ttk.Scale(profile_tab, from_=0, to=100, orient=tk.HORIZONTAL, command=lambda value: select_weather(value))\n",
    "slider2.place(x=180, y=160)\n",
    "\n",
    "slider3_label = ttk.Label(profile_tab, text='Sun altitude:', font=('Century Gothic', 8), style='TLabel')\n",
    "slider3_label.place(x=30, y=190)\n",
    "slider3 = ttk.Scale(profile_tab, from_=0, to=100, orient=tk.HORIZONTAL, command=lambda value: select_weather(value))\n",
    "slider3.place(x=180, y=190)\n",
    "\n",
    "slider4_label = ttk.Label(profile_tab, text='Precipitation deposits:', font=('Century Gothic', 8), style='TLabel')\n",
    "slider4_label.place(x=30, y=220)\n",
    "slider4 = ttk.Scale(profile_tab, from_=0, to=100, orient=tk.HORIZONTAL, command=lambda value: select_weather(value))\n",
    "slider4.place(x=180, y=220)\n",
    "\n",
    "slider5_label = ttk.Label(profile_tab, text='Fog density:', font=('Century Gothic', 8), style='TLabel')\n",
    "slider5_label.place(x=30, y=250)\n",
    "slider5 = ttk.Scale(profile_tab, from_=0, to=100, orient=tk.HORIZONTAL, command=lambda value: select_weather(value))\n",
    "slider5.place(x=180, y=250)\n",
    "\n",
    "slider6_label = ttk.Label(profile_tab, text='Wetness:', font=('Century Gothic', 8), style='TLabel')\n",
    "slider6_label.place(x=30, y=280)\n",
    "slider6 = ttk.Scale(profile_tab, from_=0, to=100, orient=tk.HORIZONTAL, command=lambda value: select_weather(value))\n",
    "slider6.place(x=180, y=280)\n",
    "\n",
    "# Other elements of the \"Profile\" tab\n",
    "\n",
    "lf_text = \"➢ Choose Algorithm\"  \n",
    "lf = ttk.Label(profile_tab, text=lf_text, style='TLabel')\n",
    "lf.place(x=10, y=350)\n",
    "\n",
    "# Creating a Frame inside the LabelFrame\n",
    "lf_frame = ttk.Frame(profile_tab)\n",
    "lf_frame.place(x=30, y=373)\n",
    "\n",
    "alignment_var = tk.StringVar()\n",
    "alignments = ('Algorithm 1', 'Algorithm 2')\n",
    "\n",
    "# Creating radio buttons and placing them in the Frame inside the LabelFrame\n",
    "grid_column = 0\n",
    "for alignment in alignments:\n",
    "    radio = ttk.Radiobutton(lf_frame, text=alignment, value=alignment, variable=alignment_var, command=on_algorithm_selected, style='TRadiobutton')\n",
    "    radio.grid(column=grid_column, row=0, ipadx=10, ipady=10)\n",
    "    grid_column += 1\n",
    "\n",
    "lf_text = \"➢ Choose car model\"  \n",
    "lf = ttk.Label(profile_tab, text=lf_text, style='TLabel')\n",
    "lf.place(x=10, y=420)\n",
    "\n",
    "# Creating a Frame inside the LabelFrame\n",
    "lf_frame = ttk.Frame(profile_tab)\n",
    "lf_frame.place(x=30, y=443)\n",
    "\n",
    "alignment_var_model = tk.StringVar()\n",
    "alignments_model = ('Tesla', 'Mini', 'Audi', 'Dodge')\n",
    "\n",
    "# Creating radio buttons and placing them in the Frame inside the LabelFrame\n",
    "grid_column = 0\n",
    "for alignment in alignments_model:\n",
    "    radio = ttk.Radiobutton(lf_frame, text=alignment, value=alignment, variable=alignment_var_model, command=model, style='TRadiobutton')\n",
    "    radio.grid(column=grid_column, row=0, ipadx=10, ipady=10)\n",
    "    grid_column += 1\n",
    "\n",
    "# Setting up the expansion of the \"Profile\" tab\n",
    "profile_tab.columnconfigure(0, weight=1)\n",
    "profile_tab.columnconfigure(1, weight=0)  # Preventing the column with the Canvas from expanding\n",
    "profile_tab.rowconfigure(0, weight=1)\n",
    "\n",
    "# Starting the main loop\n",
    "root.mainloop()"
   ]
  },
  {
   "cell_type": "markdown",
   "id": "4e85a35e",
   "metadata": {},
   "source": [
    "### PART 2: CREATING THE AGENTS"
   ]
  },
  {
   "cell_type": "markdown",
   "id": "fd6aac7d",
   "metadata": {},
   "source": [
    "#### WORLD\n",
    "In our case, we will work with the outer city track of the world 05."
   ]
  },
  {
   "cell_type": "code",
   "execution_count": 3,
   "id": "37314fd6",
   "metadata": {},
   "outputs": [],
   "source": [
    "client = carla.Client('localhost', 2000)\n",
    "client.set_timeout(2000)\n",
    "client.load_world(\"Town05\")\n",
    "world = client.get_world()\n",
    "map = world.get_map()"
   ]
  },
  {
   "cell_type": "markdown",
   "id": "b3498555",
   "metadata": {},
   "source": [
    "#### VIEW\n",
    "Let's change the perspective view in Carla Simulator so that we can see at all times what the vehicle is doing."
   ]
  },
  {
   "cell_type": "code",
   "execution_count": 23,
   "id": "b6318b1c",
   "metadata": {},
   "outputs": [],
   "source": [
    "#loc=carla.Transform(carla.Location(x=106.557922, y=191.3, z=1.138501), carla.Rotation(pitch=0.533207, yaw=-186.194565, roll=0.006472))\n",
    "loc=carla.Transform(carla.Location(x=-124.557922, y=-190.525208, z=10.138501), carla.Rotation(pitch=0.533207, yaw=-1.194565, roll=0.006472))\n",
    "spectator = world.get_spectator()\n",
    "spectator_pos = carla.Transform(loc.location + carla.Location(x=10,y=0,z=4),carla.Rotation(yaw=loc.rotation.yaw))\n",
    "spectator.set_transform(spectator_pos)"
   ]
  },
  {
   "cell_type": "markdown",
   "id": "266c0f1d",
   "metadata": {},
   "source": [
    "#### CAR\n",
    "Let's create a Tesla car in the color selected at the specified location in loc."
   ]
  },
  {
   "cell_type": "code",
   "execution_count": 24,
   "id": "fa86abff",
   "metadata": {},
   "outputs": [],
   "source": [
    "blueprint_library = world.get_blueprint_library()\n",
    "bp = random.choice(blueprint_library.filter(selected_model))\n",
    "\n",
    "if bp.has_attribute('color'):\n",
    "    color = bp.get_attribute('color').recommended_values[2]\n",
    "    bp.set_attribute('color', selected_color)\n",
    "\n",
    "vehicle = world.spawn_actor(bp, loc)"
   ]
  },
  {
   "cell_type": "markdown",
   "id": "aac62b98",
   "metadata": {},
   "source": [
    "#### SENSOR\n",
    "We will create a camera attached to the car that shows us what is happening at all times."
   ]
  },
  {
   "cell_type": "code",
   "execution_count": 25,
   "id": "84c3a8c2",
   "metadata": {},
   "outputs": [],
   "source": [
    "def camera_callback(image,data_dict):\n",
    "    data_dict['image'] = np.reshape(np.copy(image.raw_data),(image.height,image.width,4))"
   ]
  },
  {
   "cell_type": "code",
   "execution_count": 26,
   "id": "3cd661ce",
   "metadata": {},
   "outputs": [],
   "source": [
    "CAMERA_POS_Z = 3\n",
    "CAMERA_POS_X = -5\n",
    "camera_bp=world.get_blueprint_library().find('sensor.camera.rgb')\n",
    "camera_bp.set_attribute('image_size_x','640')\n",
    "camera_bp.set_attribute('image_size_y','360')\n",
    "camera_init_trans= carla.Transform(carla.Location(z=CAMERA_POS_Z,x=CAMERA_POS_X))\n",
    "camera=world.spawn_actor(camera_bp,camera_init_trans,attach_to=vehicle)\n",
    "image_w= camera_bp.get_attribute('image_size_x').as_int()\n",
    "image_h= camera_bp.get_attribute('image_size_y').as_int()\n",
    "camera_data = {'image':np.zeros((image_h,image_w,4))}\n",
    "camera.listen(lambda image: camera_callback(image,camera_data))"
   ]
  },
  {
   "cell_type": "markdown",
   "id": "e58ad71f",
   "metadata": {},
   "source": [
    "### PART 3: LANE DRIVING"
   ]
  },
  {
   "cell_type": "markdown",
   "id": "e0ab553a",
   "metadata": {},
   "source": [
    "#### VELOCITY\n",
    "We create a function that, according to the speed limit, calculates the necessary acceleration to maintain a speed as close as possible without exceeding it."
   ]
  },
  {
   "cell_type": "code",
   "execution_count": 8,
   "id": "88b64aed",
   "metadata": {},
   "outputs": [],
   "source": [
    "def maintain_speed(s,preferred_speed,speed_threshold):\n",
    "    if s >= preferred_speed:\n",
    "        return 0\n",
    "    elif s < preferred_speed - speed_threshold:\n",
    "        return 0.8\n",
    "    else:\n",
    "        return 0.4"
   ]
  },
  {
   "cell_type": "markdown",
   "id": "7e72ce33",
   "metadata": {},
   "source": [
    "#### ANGLE\n",
    "We create a function that calculates the angle between two points on the map."
   ]
  },
  {
   "cell_type": "code",
   "execution_count": 9,
   "id": "15489420",
   "metadata": {},
   "outputs": [],
   "source": [
    "def angle_between(v1, v2):\n",
    "    return math.degrees(np.arctan2(v1[1], v1[0]) - np.arctan2(v2[1], v2[0]))\n",
    "\n",
    "def get_angle(car,wp):\n",
    "    vehicle_pos = car.get_transform()\n",
    "    car_x = vehicle_pos.location.x\n",
    "    car_y = vehicle_pos.location.y\n",
    "    wp_x = wp.transform.location.x\n",
    "    wp_y = wp.transform.location.y\n",
    "    \n",
    "    x = (wp_x - car_x)/((wp_y - car_y)**2 + (wp_x - car_x)**2)**0.5\n",
    "    y = (wp_y - car_y)/((wp_y - car_y)**2 + (wp_x - car_x)**2)**0.5\n",
    "    \n",
    "    car_vector = vehicle_pos.get_forward_vector()\n",
    "    degrees = angle_between((x,y),(car_vector.x,car_vector.y))\n",
    "    return degrees"
   ]
  },
  {
   "cell_type": "markdown",
   "id": "bdb756e3",
   "metadata": {},
   "source": [
    "#### STEER\n",
    "We create a function that calculates the angle and direction to apply to the vehicle."
   ]
  },
  {
   "cell_type": "code",
   "execution_count": 10,
   "id": "9ba7d8c4",
   "metadata": {},
   "outputs": [],
   "source": [
    "def steer(predicted_angle,MAX_STEER_DEGREES):\n",
    "    if predicted_angle<-180:\n",
    "        predicted_angle = predicted_angle+360\n",
    "    elif predicted_angle > 180:\n",
    "        predicted_angle = predicted_angle-360\n",
    "    steer_input = predicted_angle\n",
    "    if predicted_angle<-MAX_STEER_DEGREES:\n",
    "        steer_input = -MAX_STEER_DEGREES\n",
    "    elif predicted_angle>MAX_STEER_DEGREES:\n",
    "        steer_input = MAX_STEER_DEGREES\n",
    "    steer_input = steer_input/75\n",
    "    return steer_input"
   ]
  },
  {
   "cell_type": "markdown",
   "id": "a826ea6f",
   "metadata": {},
   "source": [
    "### PART 4: WEATHER CHANGE\n",
    "We create a function that randomly changes the weather."
   ]
  },
  {
   "cell_type": "code",
   "execution_count": 11,
   "id": "3f102418",
   "metadata": {},
   "outputs": [],
   "source": [
    "def weather():\n",
    "    weather = carla.WeatherParameters(\n",
    "            cloudiness=selected_weather[0],\n",
    "            precipitation=selected_weather[1],\n",
    "            sun_altitude_angle=selected_weather[2],\n",
    "            precipitation_deposits =selected_weather[3],\n",
    "            fog_density =selected_weather[4],\n",
    "            wetness = selected_weather[5])\n",
    "    world.set_weather(weather)"
   ]
  },
  {
   "cell_type": "markdown",
   "id": "2c0b5898",
   "metadata": {},
   "source": [
    "### PART 5: TRAFFIC LIGHTS"
   ]
  },
  {
   "cell_type": "markdown",
   "id": "29964b71",
   "metadata": {},
   "source": [
    "#### LIGHT\n",
    "We create a function that returns the color of the traffic light corresponding to our lane and area."
   ]
  },
  {
   "cell_type": "code",
   "execution_count": 12,
   "id": "19ca1e75",
   "metadata": {},
   "outputs": [],
   "source": [
    "def is_traffic_light_red(vehicle, world):\n",
    "    location = vehicle.get_location()\n",
    "    actor_list = world.get_actors()\n",
    "\n",
    "    for actor in actor_list:\n",
    "        if actor.type_id.startswith(\"traffic.traffic_light\"):\n",
    "            traffic_light_location = actor.get_location()\n",
    "            distance = location.distance(traffic_light_location)\n",
    "            traffic_light_state = actor.get_state()\n",
    "            traffic_light_waypoint = world.get_map().get_waypoint(traffic_light_location) \n",
    "            if traffic_light_waypoint.road_id == 2353 and traffic_light_waypoint.lane_id == 1:\n",
    "                if 30 < distance < 37.0:\n",
    "                    if traffic_light_state == carla.TrafficLightState.Red:\n",
    "                        return True\n",
    "                    elif traffic_light_state == carla.TrafficLightState.Green:\n",
    "                        return False\n",
    "                    \n",
    "            if traffic_light_waypoint.road_id == 2043 and traffic_light_waypoint.lane_id == 1:\n",
    "                if 30 < distance < 37.0 and location.x<traffic_light_location.x:\n",
    "                    if traffic_light_state == carla.TrafficLightState.Red:\n",
    "                        return True\n",
    "                    elif traffic_light_state == carla.TrafficLightState.Green:\n",
    "                        return False"
   ]
  },
  {
   "cell_type": "markdown",
   "id": "ef9308e9",
   "metadata": {},
   "source": [
    "#### BRAKE\n",
    "Function that slows down the vehicle if there is a red traffic light and if not, applies the previously calculated speed."
   ]
  },
  {
   "cell_type": "code",
   "execution_count": 13,
   "id": "ce6477c4",
   "metadata": {},
   "outputs": [],
   "source": [
    "def freno(light,brake_intensity,vehicle,estimated_throttle,steer_input):\n",
    "    if light:\n",
    "        control = carla.VehicleControl(brake=brake_intensity)\n",
    "        vehicle.apply_control(control)\n",
    "    else:    \n",
    "        vehicle.apply_control(carla.VehicleControl(throttle= estimated_throttle, steer=steer_input))"
   ]
  },
  {
   "cell_type": "markdown",
   "id": "de262d8f",
   "metadata": {},
   "source": [
    "### PART 6: SIGNS\n",
    "Creation of a function that detects speed signs affecting the car's lane and returns the speed limit."
   ]
  },
  {
   "cell_type": "code",
   "execution_count": 27,
   "id": "b56dad7f",
   "metadata": {},
   "outputs": [],
   "source": [
    "def signs(vehicle, world):\n",
    "    location = vehicle.get_location()\n",
    "    actor_list = world.get_actors()\n",
    "\n",
    "    for actor in actor_list:\n",
    "        if actor.type_id.startswith(\"traffic.speed_limit\"):\n",
    "            traffic_sign_location = actor.get_location()\n",
    "            distance = location.distance(traffic_sign_location)\n",
    "            if distance < 20.0:\n",
    "                # Obtiene el waypoint del vehículo y de la señal de tráfico\n",
    "                vehicle_waypoint = world.get_map().get_waypoint(location)\n",
    "                sign_waypoint = world.get_map().get_waypoint(traffic_sign_location)\n",
    "                # Verifica si la señal de tráfico está en la misma carretera que el vehículo\n",
    "                if sign_waypoint.lane_id == 4:\n",
    "                    # Verifica si la señal de tráfico tiene información de velocidad límite\n",
    "                    match = re.search(r'traffic\\.speed_limit\\.(\\d+)', actor.type_id)\n",
    "                    numero = match.group(1) \n",
    "                    speed_limit_kph = int(numero)\n",
    "                    return speed_limit_kph\n",
    "    return 0"
   ]
  },
  {
   "cell_type": "markdown",
   "id": "39ab2074",
   "metadata": {},
   "source": [
    "### PART 7: DRIVING\n",
    "Main code with calls to functions to make autonomous driving work."
   ]
  },
  {
   "cell_type": "code",
   "execution_count": null,
   "id": "42906f70",
   "metadata": {},
   "outputs": [],
   "source": [
    "#Defining variables.\n",
    "brake_intensity = 0.8\n",
    "preferred_speed = 90\n",
    "speed_threshold = 2\n",
    "MAX_STEER_DEGREES = 20\n",
    "cv2.namedWindow('RGB Camera', cv2.WINDOW_AUTOSIZE)\n",
    "cv2.imshow('RGB Camera', camera_data['image'])\n",
    "quit=False\n",
    "\n",
    "while True:\n",
    "    world.tick()\n",
    "    if cv2.waitKey(1)==ord('q'):\n",
    "        quit=True\n",
    "        break\n",
    "    image = camera_data['image']\n",
    "    \n",
    "    #Weather change\n",
    "    weather()\n",
    "        \n",
    "    #Current location of the vehicle\n",
    "    loc=vehicle.get_location()\n",
    "    current_w = map.get_waypoint(loc)\n",
    "    waypoint_separation = 5\n",
    "    next_w0 = list(current_w.next(waypoint_separation))[0]\n",
    "    next_w = map.get_waypoint(next_w0.transform.location,project_to_road=True, lane_type=(carla.LaneType.Driving))\n",
    "    \n",
    "    #Speed and angle calculation\n",
    "    velocity = vehicle.get_velocity()\n",
    "    speed = round(3.6 *math.sqrt(velocity.x**2+ velocity.y**2+velocity.z**2),0)\n",
    "    image=cv2.putText(image,'Speed: '+str(int(speed))+' km/h', (30,50),cv2.FONT_HERSHEY_SIMPLEX,0.5,(255,255,255),1,cv2.LINE_AA)\n",
    "    estimated_throttle = maintain_speed(speed,preferred_speed,speed_threshold)\n",
    "    predicted_angle = get_angle(vehicle,next_w)\n",
    "    steer_input=steer(predicted_angle,MAX_STEER_DEGREES)\n",
    "    sign=signs(vehicle, world)\n",
    "    if sign!=0:\n",
    "        preferred_speed=sign\n",
    "\n",
    "    light=is_traffic_light_red(vehicle, world)\n",
    "    if steer_input > 0.05:\n",
    "        estimated_throttle=0.2\n",
    "    freno(light,brake_intensity,vehicle,estimated_throttle,steer_input)\n",
    "    #Camera\n",
    "    cv2.imshow('RGB Camera', image)\n",
    "cv2.destroyAllWindows()\n",
    "camera.stop()"
   ]
  },
  {
   "cell_type": "markdown",
   "id": "67567fb2",
   "metadata": {},
   "source": [
    "### PART 9: DESTROY\n",
    "Destruction of the used agents."
   ]
  },
  {
   "cell_type": "code",
   "execution_count": 29,
   "id": "00786796",
   "metadata": {},
   "outputs": [],
   "source": [
    "for actor in world.get_actors().filter('*vehicle*'):\n",
    "    actor.destroy()\n",
    "for sensor in world.get_actors().filter('*sensor*'):\n",
    "    sensor.destroy()"
   ]
  }
 ],
 "metadata": {
  "kernelspec": {
   "display_name": "Python 3 (ipykernel)",
   "language": "python",
   "name": "python3"
  },
  "language_info": {
   "codemirror_mode": {
    "name": "ipython",
    "version": 3
   },
   "file_extension": ".py",
   "mimetype": "text/x-python",
   "name": "python",
   "nbconvert_exporter": "python",
   "pygments_lexer": "ipython3",
   "version": "3.7.2"
  }
 },
 "nbformat": 4,
 "nbformat_minor": 5
}
